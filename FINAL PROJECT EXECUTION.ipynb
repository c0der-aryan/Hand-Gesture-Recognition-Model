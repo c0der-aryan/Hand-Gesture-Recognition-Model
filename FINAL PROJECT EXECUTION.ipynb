{
 "cells": [
  {
   "cell_type": "code",
   "execution_count": 3,
   "id": "d375a2b5",
   "metadata": {},
   "outputs": [
    {
     "name": "stdout",
     "output_type": "stream",
     "text": [
      "{'up': 0, 'down': 1, 'left': 2, 'right': 3, 'bwd': 4, 'fwd': 5, 'land': 6, 'flip': 7}\n"
     ]
    }
   ],
   "source": [
    "labels=[\"up\",\"down\",\"left\",\"right\",\"bwd\",\"fwd\",\"land\",\"flip\"]\n",
    "\n",
    "# Create a dictionary mapping each element to a unique number\n",
    "element_dict = {element: index for index, element in enumerate(labels)}\n",
    "\n",
    "# Display the dictionary\n",
    "print(element_dict)"
   ]
  },
  {
   "cell_type": "code",
   "execution_count": 11,
   "id": "85225ef0",
   "metadata": {},
   "outputs": [
    {
     "name": "stderr",
     "output_type": "stream",
     "text": [
      "/Users/aryansood/anaconda3/lib/python3.11/site-packages/sklearn/base.py:493: UserWarning: X does not have valid feature names, but RidgeClassifier was fitted with feature names\n",
      "  warnings.warn(\n",
      "/Users/aryansood/anaconda3/lib/python3.11/site-packages/sklearn/base.py:493: UserWarning: X does not have valid feature names, but RidgeClassifier was fitted with feature names\n",
      "  warnings.warn(\n"
     ]
    },
    {
     "name": "stdout",
     "output_type": "stream",
     "text": [
      "[0.]\n",
      "up\n",
      "[0.]\n",
      "up\n"
     ]
    },
    {
     "name": "stderr",
     "output_type": "stream",
     "text": [
      "/Users/aryansood/anaconda3/lib/python3.11/site-packages/sklearn/base.py:493: UserWarning: X does not have valid feature names, but RidgeClassifier was fitted with feature names\n",
      "  warnings.warn(\n",
      "/Users/aryansood/anaconda3/lib/python3.11/site-packages/sklearn/base.py:493: UserWarning: X does not have valid feature names, but RidgeClassifier was fitted with feature names\n",
      "  warnings.warn(\n",
      "/Users/aryansood/anaconda3/lib/python3.11/site-packages/sklearn/base.py:493: UserWarning: X does not have valid feature names, but RidgeClassifier was fitted with feature names\n",
      "  warnings.warn(\n"
     ]
    },
    {
     "name": "stdout",
     "output_type": "stream",
     "text": [
      "[0.]\n",
      "up\n",
      "[0.]\n",
      "up\n",
      "[0.]\n",
      "up\n"
     ]
    },
    {
     "name": "stderr",
     "output_type": "stream",
     "text": [
      "/Users/aryansood/anaconda3/lib/python3.11/site-packages/sklearn/base.py:493: UserWarning: X does not have valid feature names, but RidgeClassifier was fitted with feature names\n",
      "  warnings.warn(\n",
      "/Users/aryansood/anaconda3/lib/python3.11/site-packages/sklearn/base.py:493: UserWarning: X does not have valid feature names, but RidgeClassifier was fitted with feature names\n",
      "  warnings.warn(\n",
      "/Users/aryansood/anaconda3/lib/python3.11/site-packages/sklearn/base.py:493: UserWarning: X does not have valid feature names, but RidgeClassifier was fitted with feature names\n",
      "  warnings.warn(\n"
     ]
    },
    {
     "name": "stdout",
     "output_type": "stream",
     "text": [
      "[0.]\n",
      "up\n",
      "[0.]\n",
      "up\n",
      "[0.]\n",
      "up\n"
     ]
    },
    {
     "name": "stderr",
     "output_type": "stream",
     "text": [
      "/Users/aryansood/anaconda3/lib/python3.11/site-packages/sklearn/base.py:493: UserWarning: X does not have valid feature names, but RidgeClassifier was fitted with feature names\n",
      "  warnings.warn(\n",
      "/Users/aryansood/anaconda3/lib/python3.11/site-packages/sklearn/base.py:493: UserWarning: X does not have valid feature names, but RidgeClassifier was fitted with feature names\n",
      "  warnings.warn(\n"
     ]
    },
    {
     "name": "stdout",
     "output_type": "stream",
     "text": [
      "[0.]\n",
      "up\n",
      "[0.]\n",
      "up\n"
     ]
    },
    {
     "name": "stderr",
     "output_type": "stream",
     "text": [
      "/Users/aryansood/anaconda3/lib/python3.11/site-packages/sklearn/base.py:493: UserWarning: X does not have valid feature names, but RidgeClassifier was fitted with feature names\n",
      "  warnings.warn(\n",
      "/Users/aryansood/anaconda3/lib/python3.11/site-packages/sklearn/base.py:493: UserWarning: X does not have valid feature names, but RidgeClassifier was fitted with feature names\n",
      "  warnings.warn(\n"
     ]
    },
    {
     "name": "stdout",
     "output_type": "stream",
     "text": [
      "[0.]\n",
      "up\n",
      "[0.]\n",
      "up\n"
     ]
    },
    {
     "name": "stderr",
     "output_type": "stream",
     "text": [
      "/Users/aryansood/anaconda3/lib/python3.11/site-packages/sklearn/base.py:493: UserWarning: X does not have valid feature names, but RidgeClassifier was fitted with feature names\n",
      "  warnings.warn(\n",
      "/Users/aryansood/anaconda3/lib/python3.11/site-packages/sklearn/base.py:493: UserWarning: X does not have valid feature names, but RidgeClassifier was fitted with feature names\n",
      "  warnings.warn(\n"
     ]
    },
    {
     "name": "stdout",
     "output_type": "stream",
     "text": [
      "[2.]\n",
      "left\n",
      "[2.]\n",
      "left\n"
     ]
    },
    {
     "name": "stderr",
     "output_type": "stream",
     "text": [
      "/Users/aryansood/anaconda3/lib/python3.11/site-packages/sklearn/base.py:493: UserWarning: X does not have valid feature names, but RidgeClassifier was fitted with feature names\n",
      "  warnings.warn(\n",
      "/Users/aryansood/anaconda3/lib/python3.11/site-packages/sklearn/base.py:493: UserWarning: X does not have valid feature names, but RidgeClassifier was fitted with feature names\n",
      "  warnings.warn(\n",
      "/Users/aryansood/anaconda3/lib/python3.11/site-packages/sklearn/base.py:493: UserWarning: X does not have valid feature names, but RidgeClassifier was fitted with feature names\n",
      "  warnings.warn(\n"
     ]
    },
    {
     "name": "stdout",
     "output_type": "stream",
     "text": [
      "[2.]\n",
      "left\n",
      "[2.]\n",
      "left\n",
      "[2.]\n",
      "left\n"
     ]
    },
    {
     "name": "stderr",
     "output_type": "stream",
     "text": [
      "/Users/aryansood/anaconda3/lib/python3.11/site-packages/sklearn/base.py:493: UserWarning: X does not have valid feature names, but RidgeClassifier was fitted with feature names\n",
      "  warnings.warn(\n",
      "/Users/aryansood/anaconda3/lib/python3.11/site-packages/sklearn/base.py:493: UserWarning: X does not have valid feature names, but RidgeClassifier was fitted with feature names\n",
      "  warnings.warn(\n"
     ]
    },
    {
     "name": "stdout",
     "output_type": "stream",
     "text": [
      "[2.]\n",
      "left\n",
      "[2.]\n",
      "left\n"
     ]
    },
    {
     "name": "stderr",
     "output_type": "stream",
     "text": [
      "/Users/aryansood/anaconda3/lib/python3.11/site-packages/sklearn/base.py:493: UserWarning: X does not have valid feature names, but RidgeClassifier was fitted with feature names\n",
      "  warnings.warn(\n",
      "/Users/aryansood/anaconda3/lib/python3.11/site-packages/sklearn/base.py:493: UserWarning: X does not have valid feature names, but RidgeClassifier was fitted with feature names\n",
      "  warnings.warn(\n",
      "/Users/aryansood/anaconda3/lib/python3.11/site-packages/sklearn/base.py:493: UserWarning: X does not have valid feature names, but RidgeClassifier was fitted with feature names\n",
      "  warnings.warn(\n"
     ]
    },
    {
     "name": "stdout",
     "output_type": "stream",
     "text": [
      "[2.]\n",
      "left\n",
      "[2.]\n",
      "left\n",
      "[2.]\n",
      "left\n"
     ]
    },
    {
     "name": "stderr",
     "output_type": "stream",
     "text": [
      "/Users/aryansood/anaconda3/lib/python3.11/site-packages/sklearn/base.py:493: UserWarning: X does not have valid feature names, but RidgeClassifier was fitted with feature names\n",
      "  warnings.warn(\n",
      "/Users/aryansood/anaconda3/lib/python3.11/site-packages/sklearn/base.py:493: UserWarning: X does not have valid feature names, but RidgeClassifier was fitted with feature names\n",
      "  warnings.warn(\n",
      "/Users/aryansood/anaconda3/lib/python3.11/site-packages/sklearn/base.py:493: UserWarning: X does not have valid feature names, but RidgeClassifier was fitted with feature names\n",
      "  warnings.warn(\n"
     ]
    },
    {
     "name": "stdout",
     "output_type": "stream",
     "text": [
      "[2.]\n",
      "left\n",
      "[2.]\n",
      "left\n",
      "[2.]\n",
      "left\n"
     ]
    },
    {
     "name": "stderr",
     "output_type": "stream",
     "text": [
      "/Users/aryansood/anaconda3/lib/python3.11/site-packages/sklearn/base.py:493: UserWarning: X does not have valid feature names, but RidgeClassifier was fitted with feature names\n",
      "  warnings.warn(\n",
      "/Users/aryansood/anaconda3/lib/python3.11/site-packages/sklearn/base.py:493: UserWarning: X does not have valid feature names, but RidgeClassifier was fitted with feature names\n",
      "  warnings.warn(\n",
      "/Users/aryansood/anaconda3/lib/python3.11/site-packages/sklearn/base.py:493: UserWarning: X does not have valid feature names, but RidgeClassifier was fitted with feature names\n",
      "  warnings.warn(\n"
     ]
    },
    {
     "name": "stdout",
     "output_type": "stream",
     "text": [
      "[2.]\n",
      "left\n",
      "[2.]\n",
      "left\n",
      "[2.]\n",
      "left\n"
     ]
    },
    {
     "name": "stderr",
     "output_type": "stream",
     "text": [
      "/Users/aryansood/anaconda3/lib/python3.11/site-packages/sklearn/base.py:493: UserWarning: X does not have valid feature names, but RidgeClassifier was fitted with feature names\n",
      "  warnings.warn(\n",
      "/Users/aryansood/anaconda3/lib/python3.11/site-packages/sklearn/base.py:493: UserWarning: X does not have valid feature names, but RidgeClassifier was fitted with feature names\n",
      "  warnings.warn(\n"
     ]
    },
    {
     "name": "stdout",
     "output_type": "stream",
     "text": [
      "[2.]\n",
      "left\n",
      "[2.]\n",
      "left\n"
     ]
    },
    {
     "name": "stderr",
     "output_type": "stream",
     "text": [
      "/Users/aryansood/anaconda3/lib/python3.11/site-packages/sklearn/base.py:493: UserWarning: X does not have valid feature names, but RidgeClassifier was fitted with feature names\n",
      "  warnings.warn(\n",
      "/Users/aryansood/anaconda3/lib/python3.11/site-packages/sklearn/base.py:493: UserWarning: X does not have valid feature names, but RidgeClassifier was fitted with feature names\n",
      "  warnings.warn(\n",
      "/Users/aryansood/anaconda3/lib/python3.11/site-packages/sklearn/base.py:493: UserWarning: X does not have valid feature names, but RidgeClassifier was fitted with feature names\n",
      "  warnings.warn(\n"
     ]
    },
    {
     "name": "stdout",
     "output_type": "stream",
     "text": [
      "[2.]\n",
      "left\n",
      "[2.]\n",
      "left\n",
      "[2.]\n",
      "left\n"
     ]
    },
    {
     "name": "stderr",
     "output_type": "stream",
     "text": [
      "/Users/aryansood/anaconda3/lib/python3.11/site-packages/sklearn/base.py:493: UserWarning: X does not have valid feature names, but RidgeClassifier was fitted with feature names\n",
      "  warnings.warn(\n",
      "/Users/aryansood/anaconda3/lib/python3.11/site-packages/sklearn/base.py:493: UserWarning: X does not have valid feature names, but RidgeClassifier was fitted with feature names\n",
      "  warnings.warn(\n"
     ]
    },
    {
     "name": "stdout",
     "output_type": "stream",
     "text": [
      "[2.]\n",
      "left\n",
      "[2.]\n",
      "left\n"
     ]
    },
    {
     "name": "stderr",
     "output_type": "stream",
     "text": [
      "/Users/aryansood/anaconda3/lib/python3.11/site-packages/sklearn/base.py:493: UserWarning: X does not have valid feature names, but RidgeClassifier was fitted with feature names\n",
      "  warnings.warn(\n",
      "/Users/aryansood/anaconda3/lib/python3.11/site-packages/sklearn/base.py:493: UserWarning: X does not have valid feature names, but RidgeClassifier was fitted with feature names\n",
      "  warnings.warn(\n",
      "/Users/aryansood/anaconda3/lib/python3.11/site-packages/sklearn/base.py:493: UserWarning: X does not have valid feature names, but RidgeClassifier was fitted with feature names\n",
      "  warnings.warn(\n"
     ]
    },
    {
     "name": "stdout",
     "output_type": "stream",
     "text": [
      "[2.]\n",
      "left\n",
      "[2.]\n",
      "left\n",
      "[2.]\n",
      "left\n"
     ]
    },
    {
     "name": "stderr",
     "output_type": "stream",
     "text": [
      "/Users/aryansood/anaconda3/lib/python3.11/site-packages/sklearn/base.py:493: UserWarning: X does not have valid feature names, but RidgeClassifier was fitted with feature names\n",
      "  warnings.warn(\n",
      "/Users/aryansood/anaconda3/lib/python3.11/site-packages/sklearn/base.py:493: UserWarning: X does not have valid feature names, but RidgeClassifier was fitted with feature names\n",
      "  warnings.warn(\n"
     ]
    },
    {
     "name": "stdout",
     "output_type": "stream",
     "text": [
      "[2.]\n",
      "left\n",
      "[2.]\n",
      "left\n"
     ]
    },
    {
     "name": "stderr",
     "output_type": "stream",
     "text": [
      "/Users/aryansood/anaconda3/lib/python3.11/site-packages/sklearn/base.py:493: UserWarning: X does not have valid feature names, but RidgeClassifier was fitted with feature names\n",
      "  warnings.warn(\n",
      "/Users/aryansood/anaconda3/lib/python3.11/site-packages/sklearn/base.py:493: UserWarning: X does not have valid feature names, but RidgeClassifier was fitted with feature names\n",
      "  warnings.warn(\n",
      "/Users/aryansood/anaconda3/lib/python3.11/site-packages/sklearn/base.py:493: UserWarning: X does not have valid feature names, but RidgeClassifier was fitted with feature names\n",
      "  warnings.warn(\n"
     ]
    },
    {
     "name": "stdout",
     "output_type": "stream",
     "text": [
      "[2.]\n",
      "left\n",
      "[2.]\n",
      "left\n",
      "[2.]\n",
      "left\n"
     ]
    },
    {
     "name": "stderr",
     "output_type": "stream",
     "text": [
      "/Users/aryansood/anaconda3/lib/python3.11/site-packages/sklearn/base.py:493: UserWarning: X does not have valid feature names, but RidgeClassifier was fitted with feature names\n",
      "  warnings.warn(\n",
      "/Users/aryansood/anaconda3/lib/python3.11/site-packages/sklearn/base.py:493: UserWarning: X does not have valid feature names, but RidgeClassifier was fitted with feature names\n",
      "  warnings.warn(\n",
      "/Users/aryansood/anaconda3/lib/python3.11/site-packages/sklearn/base.py:493: UserWarning: X does not have valid feature names, but RidgeClassifier was fitted with feature names\n",
      "  warnings.warn(\n"
     ]
    },
    {
     "name": "stdout",
     "output_type": "stream",
     "text": [
      "[2.]\n",
      "left\n",
      "[2.]\n",
      "left\n",
      "[2.]\n",
      "left\n"
     ]
    },
    {
     "name": "stderr",
     "output_type": "stream",
     "text": [
      "/Users/aryansood/anaconda3/lib/python3.11/site-packages/sklearn/base.py:493: UserWarning: X does not have valid feature names, but RidgeClassifier was fitted with feature names\n",
      "  warnings.warn(\n",
      "/Users/aryansood/anaconda3/lib/python3.11/site-packages/sklearn/base.py:493: UserWarning: X does not have valid feature names, but RidgeClassifier was fitted with feature names\n",
      "  warnings.warn(\n",
      "/Users/aryansood/anaconda3/lib/python3.11/site-packages/sklearn/base.py:493: UserWarning: X does not have valid feature names, but RidgeClassifier was fitted with feature names\n",
      "  warnings.warn(\n"
     ]
    },
    {
     "name": "stdout",
     "output_type": "stream",
     "text": [
      "[2.]\n",
      "left\n",
      "[2.]\n",
      "left\n",
      "[3.]\n",
      "right\n"
     ]
    },
    {
     "name": "stderr",
     "output_type": "stream",
     "text": [
      "/Users/aryansood/anaconda3/lib/python3.11/site-packages/sklearn/base.py:493: UserWarning: X does not have valid feature names, but RidgeClassifier was fitted with feature names\n",
      "  warnings.warn(\n",
      "/Users/aryansood/anaconda3/lib/python3.11/site-packages/sklearn/base.py:493: UserWarning: X does not have valid feature names, but RidgeClassifier was fitted with feature names\n",
      "  warnings.warn(\n",
      "/Users/aryansood/anaconda3/lib/python3.11/site-packages/sklearn/base.py:493: UserWarning: X does not have valid feature names, but RidgeClassifier was fitted with feature names\n",
      "  warnings.warn(\n"
     ]
    },
    {
     "name": "stdout",
     "output_type": "stream",
     "text": [
      "[0.]\n",
      "up\n",
      "[0.]\n",
      "up\n",
      "[0.]\n",
      "up\n"
     ]
    },
    {
     "name": "stderr",
     "output_type": "stream",
     "text": [
      "/Users/aryansood/anaconda3/lib/python3.11/site-packages/sklearn/base.py:493: UserWarning: X does not have valid feature names, but RidgeClassifier was fitted with feature names\n",
      "  warnings.warn(\n",
      "/Users/aryansood/anaconda3/lib/python3.11/site-packages/sklearn/base.py:493: UserWarning: X does not have valid feature names, but RidgeClassifier was fitted with feature names\n",
      "  warnings.warn(\n",
      "/Users/aryansood/anaconda3/lib/python3.11/site-packages/sklearn/base.py:493: UserWarning: X does not have valid feature names, but RidgeClassifier was fitted with feature names\n",
      "  warnings.warn(\n"
     ]
    },
    {
     "name": "stdout",
     "output_type": "stream",
     "text": [
      "[0.]\n",
      "up\n",
      "[0.]\n",
      "up\n",
      "[0.]\n",
      "up\n"
     ]
    },
    {
     "name": "stderr",
     "output_type": "stream",
     "text": [
      "/Users/aryansood/anaconda3/lib/python3.11/site-packages/sklearn/base.py:493: UserWarning: X does not have valid feature names, but RidgeClassifier was fitted with feature names\n",
      "  warnings.warn(\n",
      "/Users/aryansood/anaconda3/lib/python3.11/site-packages/sklearn/base.py:493: UserWarning: X does not have valid feature names, but RidgeClassifier was fitted with feature names\n",
      "  warnings.warn(\n",
      "/Users/aryansood/anaconda3/lib/python3.11/site-packages/sklearn/base.py:493: UserWarning: X does not have valid feature names, but RidgeClassifier was fitted with feature names\n",
      "  warnings.warn(\n"
     ]
    },
    {
     "name": "stdout",
     "output_type": "stream",
     "text": [
      "[0.]\n",
      "up\n",
      "[0.]\n",
      "up\n",
      "[0.]\n",
      "up\n"
     ]
    },
    {
     "name": "stderr",
     "output_type": "stream",
     "text": [
      "/Users/aryansood/anaconda3/lib/python3.11/site-packages/sklearn/base.py:493: UserWarning: X does not have valid feature names, but RidgeClassifier was fitted with feature names\n",
      "  warnings.warn(\n",
      "/Users/aryansood/anaconda3/lib/python3.11/site-packages/sklearn/base.py:493: UserWarning: X does not have valid feature names, but RidgeClassifier was fitted with feature names\n",
      "  warnings.warn(\n",
      "/Users/aryansood/anaconda3/lib/python3.11/site-packages/sklearn/base.py:493: UserWarning: X does not have valid feature names, but RidgeClassifier was fitted with feature names\n",
      "  warnings.warn(\n"
     ]
    },
    {
     "name": "stdout",
     "output_type": "stream",
     "text": [
      "[0.]\n",
      "up\n",
      "[0.]\n",
      "up\n",
      "[3.]\n",
      "right\n"
     ]
    },
    {
     "name": "stderr",
     "output_type": "stream",
     "text": [
      "/Users/aryansood/anaconda3/lib/python3.11/site-packages/sklearn/base.py:493: UserWarning: X does not have valid feature names, but RidgeClassifier was fitted with feature names\n",
      "  warnings.warn(\n",
      "/Users/aryansood/anaconda3/lib/python3.11/site-packages/sklearn/base.py:493: UserWarning: X does not have valid feature names, but RidgeClassifier was fitted with feature names\n",
      "  warnings.warn(\n",
      "/Users/aryansood/anaconda3/lib/python3.11/site-packages/sklearn/base.py:493: UserWarning: X does not have valid feature names, but RidgeClassifier was fitted with feature names\n",
      "  warnings.warn(\n"
     ]
    },
    {
     "name": "stdout",
     "output_type": "stream",
     "text": [
      "[0.]\n",
      "up\n",
      "[0.]\n",
      "up\n",
      "[0.]\n",
      "up\n"
     ]
    },
    {
     "name": "stderr",
     "output_type": "stream",
     "text": [
      "/Users/aryansood/anaconda3/lib/python3.11/site-packages/sklearn/base.py:493: UserWarning: X does not have valid feature names, but RidgeClassifier was fitted with feature names\n",
      "  warnings.warn(\n",
      "/Users/aryansood/anaconda3/lib/python3.11/site-packages/sklearn/base.py:493: UserWarning: X does not have valid feature names, but RidgeClassifier was fitted with feature names\n",
      "  warnings.warn(\n",
      "/Users/aryansood/anaconda3/lib/python3.11/site-packages/sklearn/base.py:493: UserWarning: X does not have valid feature names, but RidgeClassifier was fitted with feature names\n",
      "  warnings.warn(\n"
     ]
    },
    {
     "name": "stdout",
     "output_type": "stream",
     "text": [
      "[0.]\n",
      "up\n",
      "[0.]\n",
      "up\n",
      "[0.]\n",
      "up\n"
     ]
    },
    {
     "name": "stderr",
     "output_type": "stream",
     "text": [
      "/Users/aryansood/anaconda3/lib/python3.11/site-packages/sklearn/base.py:493: UserWarning: X does not have valid feature names, but RidgeClassifier was fitted with feature names\n",
      "  warnings.warn(\n",
      "/Users/aryansood/anaconda3/lib/python3.11/site-packages/sklearn/base.py:493: UserWarning: X does not have valid feature names, but RidgeClassifier was fitted with feature names\n",
      "  warnings.warn(\n"
     ]
    },
    {
     "name": "stdout",
     "output_type": "stream",
     "text": [
      "[0.]\n",
      "up\n",
      "[0.]\n",
      "up\n"
     ]
    },
    {
     "name": "stderr",
     "output_type": "stream",
     "text": [
      "/Users/aryansood/anaconda3/lib/python3.11/site-packages/sklearn/base.py:493: UserWarning: X does not have valid feature names, but RidgeClassifier was fitted with feature names\n",
      "  warnings.warn(\n",
      "/Users/aryansood/anaconda3/lib/python3.11/site-packages/sklearn/base.py:493: UserWarning: X does not have valid feature names, but RidgeClassifier was fitted with feature names\n",
      "  warnings.warn(\n"
     ]
    },
    {
     "name": "stdout",
     "output_type": "stream",
     "text": [
      "[0.]\n",
      "up\n",
      "[0.]\n",
      "up\n"
     ]
    },
    {
     "name": "stderr",
     "output_type": "stream",
     "text": [
      "/Users/aryansood/anaconda3/lib/python3.11/site-packages/sklearn/base.py:493: UserWarning: X does not have valid feature names, but RidgeClassifier was fitted with feature names\n",
      "  warnings.warn(\n",
      "/Users/aryansood/anaconda3/lib/python3.11/site-packages/sklearn/base.py:493: UserWarning: X does not have valid feature names, but RidgeClassifier was fitted with feature names\n",
      "  warnings.warn(\n",
      "/Users/aryansood/anaconda3/lib/python3.11/site-packages/sklearn/base.py:493: UserWarning: X does not have valid feature names, but RidgeClassifier was fitted with feature names\n",
      "  warnings.warn(\n"
     ]
    },
    {
     "name": "stdout",
     "output_type": "stream",
     "text": [
      "[0.]\n",
      "up\n",
      "[0.]\n",
      "up\n",
      "[0.]\n",
      "up\n"
     ]
    },
    {
     "name": "stderr",
     "output_type": "stream",
     "text": [
      "/Users/aryansood/anaconda3/lib/python3.11/site-packages/sklearn/base.py:493: UserWarning: X does not have valid feature names, but RidgeClassifier was fitted with feature names\n",
      "  warnings.warn(\n",
      "/Users/aryansood/anaconda3/lib/python3.11/site-packages/sklearn/base.py:493: UserWarning: X does not have valid feature names, but RidgeClassifier was fitted with feature names\n",
      "  warnings.warn(\n",
      "/Users/aryansood/anaconda3/lib/python3.11/site-packages/sklearn/base.py:493: UserWarning: X does not have valid feature names, but RidgeClassifier was fitted with feature names\n",
      "  warnings.warn(\n"
     ]
    },
    {
     "name": "stdout",
     "output_type": "stream",
     "text": [
      "[0.]\n",
      "up\n",
      "[1.]\n",
      "down\n",
      "[1.]\n",
      "down\n"
     ]
    },
    {
     "name": "stderr",
     "output_type": "stream",
     "text": [
      "/Users/aryansood/anaconda3/lib/python3.11/site-packages/sklearn/base.py:493: UserWarning: X does not have valid feature names, but RidgeClassifier was fitted with feature names\n",
      "  warnings.warn(\n",
      "/Users/aryansood/anaconda3/lib/python3.11/site-packages/sklearn/base.py:493: UserWarning: X does not have valid feature names, but RidgeClassifier was fitted with feature names\n",
      "  warnings.warn(\n",
      "/Users/aryansood/anaconda3/lib/python3.11/site-packages/sklearn/base.py:493: UserWarning: X does not have valid feature names, but RidgeClassifier was fitted with feature names\n",
      "  warnings.warn(\n"
     ]
    },
    {
     "name": "stdout",
     "output_type": "stream",
     "text": [
      "[1.]\n",
      "down\n",
      "[1.]\n",
      "down\n",
      "[1.]\n",
      "down\n"
     ]
    },
    {
     "name": "stderr",
     "output_type": "stream",
     "text": [
      "/Users/aryansood/anaconda3/lib/python3.11/site-packages/sklearn/base.py:493: UserWarning: X does not have valid feature names, but RidgeClassifier was fitted with feature names\n",
      "  warnings.warn(\n",
      "/Users/aryansood/anaconda3/lib/python3.11/site-packages/sklearn/base.py:493: UserWarning: X does not have valid feature names, but RidgeClassifier was fitted with feature names\n",
      "  warnings.warn(\n",
      "/Users/aryansood/anaconda3/lib/python3.11/site-packages/sklearn/base.py:493: UserWarning: X does not have valid feature names, but RidgeClassifier was fitted with feature names\n",
      "  warnings.warn(\n"
     ]
    },
    {
     "name": "stdout",
     "output_type": "stream",
     "text": [
      "[1.]\n",
      "down\n",
      "[1.]\n",
      "down\n",
      "[1.]\n",
      "down\n"
     ]
    },
    {
     "name": "stderr",
     "output_type": "stream",
     "text": [
      "/Users/aryansood/anaconda3/lib/python3.11/site-packages/sklearn/base.py:493: UserWarning: X does not have valid feature names, but RidgeClassifier was fitted with feature names\n",
      "  warnings.warn(\n",
      "/Users/aryansood/anaconda3/lib/python3.11/site-packages/sklearn/base.py:493: UserWarning: X does not have valid feature names, but RidgeClassifier was fitted with feature names\n",
      "  warnings.warn(\n",
      "/Users/aryansood/anaconda3/lib/python3.11/site-packages/sklearn/base.py:493: UserWarning: X does not have valid feature names, but RidgeClassifier was fitted with feature names\n",
      "  warnings.warn(\n"
     ]
    },
    {
     "name": "stdout",
     "output_type": "stream",
     "text": [
      "[1.]\n",
      "down\n",
      "[1.]\n",
      "down\n",
      "[1.]\n",
      "down\n"
     ]
    },
    {
     "name": "stderr",
     "output_type": "stream",
     "text": [
      "/Users/aryansood/anaconda3/lib/python3.11/site-packages/sklearn/base.py:493: UserWarning: X does not have valid feature names, but RidgeClassifier was fitted with feature names\n",
      "  warnings.warn(\n",
      "/Users/aryansood/anaconda3/lib/python3.11/site-packages/sklearn/base.py:493: UserWarning: X does not have valid feature names, but RidgeClassifier was fitted with feature names\n",
      "  warnings.warn(\n",
      "/Users/aryansood/anaconda3/lib/python3.11/site-packages/sklearn/base.py:493: UserWarning: X does not have valid feature names, but RidgeClassifier was fitted with feature names\n",
      "  warnings.warn(\n"
     ]
    },
    {
     "name": "stdout",
     "output_type": "stream",
     "text": [
      "[1.]\n",
      "down\n",
      "[0.]\n",
      "up\n",
      "[0.]\n",
      "up\n"
     ]
    },
    {
     "name": "stderr",
     "output_type": "stream",
     "text": [
      "/Users/aryansood/anaconda3/lib/python3.11/site-packages/sklearn/base.py:493: UserWarning: X does not have valid feature names, but RidgeClassifier was fitted with feature names\n",
      "  warnings.warn(\n",
      "/Users/aryansood/anaconda3/lib/python3.11/site-packages/sklearn/base.py:493: UserWarning: X does not have valid feature names, but RidgeClassifier was fitted with feature names\n",
      "  warnings.warn(\n",
      "/Users/aryansood/anaconda3/lib/python3.11/site-packages/sklearn/base.py:493: UserWarning: X does not have valid feature names, but RidgeClassifier was fitted with feature names\n",
      "  warnings.warn(\n"
     ]
    },
    {
     "name": "stdout",
     "output_type": "stream",
     "text": [
      "[0.]\n",
      "up\n",
      "[1.]\n",
      "down\n",
      "[1.]\n",
      "down\n"
     ]
    },
    {
     "name": "stderr",
     "output_type": "stream",
     "text": [
      "/Users/aryansood/anaconda3/lib/python3.11/site-packages/sklearn/base.py:493: UserWarning: X does not have valid feature names, but RidgeClassifier was fitted with feature names\n",
      "  warnings.warn(\n",
      "/Users/aryansood/anaconda3/lib/python3.11/site-packages/sklearn/base.py:493: UserWarning: X does not have valid feature names, but RidgeClassifier was fitted with feature names\n",
      "  warnings.warn(\n",
      "/Users/aryansood/anaconda3/lib/python3.11/site-packages/sklearn/base.py:493: UserWarning: X does not have valid feature names, but RidgeClassifier was fitted with feature names\n",
      "  warnings.warn(\n"
     ]
    },
    {
     "name": "stdout",
     "output_type": "stream",
     "text": [
      "[1.]\n",
      "down\n",
      "[1.]\n",
      "down\n",
      "[1.]\n",
      "down\n"
     ]
    },
    {
     "name": "stderr",
     "output_type": "stream",
     "text": [
      "/Users/aryansood/anaconda3/lib/python3.11/site-packages/sklearn/base.py:493: UserWarning: X does not have valid feature names, but RidgeClassifier was fitted with feature names\n",
      "  warnings.warn(\n",
      "/Users/aryansood/anaconda3/lib/python3.11/site-packages/sklearn/base.py:493: UserWarning: X does not have valid feature names, but RidgeClassifier was fitted with feature names\n",
      "  warnings.warn(\n",
      "/Users/aryansood/anaconda3/lib/python3.11/site-packages/sklearn/base.py:493: UserWarning: X does not have valid feature names, but RidgeClassifier was fitted with feature names\n",
      "  warnings.warn(\n"
     ]
    },
    {
     "name": "stdout",
     "output_type": "stream",
     "text": [
      "[1.]\n",
      "down\n",
      "[1.]\n",
      "down\n",
      "[1.]\n",
      "down\n"
     ]
    },
    {
     "name": "stderr",
     "output_type": "stream",
     "text": [
      "/Users/aryansood/anaconda3/lib/python3.11/site-packages/sklearn/base.py:493: UserWarning: X does not have valid feature names, but RidgeClassifier was fitted with feature names\n",
      "  warnings.warn(\n",
      "/Users/aryansood/anaconda3/lib/python3.11/site-packages/sklearn/base.py:493: UserWarning: X does not have valid feature names, but RidgeClassifier was fitted with feature names\n",
      "  warnings.warn(\n",
      "/Users/aryansood/anaconda3/lib/python3.11/site-packages/sklearn/base.py:493: UserWarning: X does not have valid feature names, but RidgeClassifier was fitted with feature names\n",
      "  warnings.warn(\n"
     ]
    },
    {
     "name": "stdout",
     "output_type": "stream",
     "text": [
      "[1.]\n",
      "down\n",
      "[1.]\n",
      "down\n",
      "[1.]\n",
      "down\n"
     ]
    },
    {
     "name": "stderr",
     "output_type": "stream",
     "text": [
      "/Users/aryansood/anaconda3/lib/python3.11/site-packages/sklearn/base.py:493: UserWarning: X does not have valid feature names, but RidgeClassifier was fitted with feature names\n",
      "  warnings.warn(\n",
      "/Users/aryansood/anaconda3/lib/python3.11/site-packages/sklearn/base.py:493: UserWarning: X does not have valid feature names, but RidgeClassifier was fitted with feature names\n",
      "  warnings.warn(\n",
      "/Users/aryansood/anaconda3/lib/python3.11/site-packages/sklearn/base.py:493: UserWarning: X does not have valid feature names, but RidgeClassifier was fitted with feature names\n",
      "  warnings.warn(\n"
     ]
    },
    {
     "name": "stdout",
     "output_type": "stream",
     "text": [
      "[1.]\n",
      "down\n",
      "[1.]\n",
      "down\n",
      "[1.]\n",
      "down\n"
     ]
    },
    {
     "name": "stderr",
     "output_type": "stream",
     "text": [
      "/Users/aryansood/anaconda3/lib/python3.11/site-packages/sklearn/base.py:493: UserWarning: X does not have valid feature names, but RidgeClassifier was fitted with feature names\n",
      "  warnings.warn(\n",
      "/Users/aryansood/anaconda3/lib/python3.11/site-packages/sklearn/base.py:493: UserWarning: X does not have valid feature names, but RidgeClassifier was fitted with feature names\n",
      "  warnings.warn(\n",
      "/Users/aryansood/anaconda3/lib/python3.11/site-packages/sklearn/base.py:493: UserWarning: X does not have valid feature names, but RidgeClassifier was fitted with feature names\n",
      "  warnings.warn(\n"
     ]
    },
    {
     "name": "stdout",
     "output_type": "stream",
     "text": [
      "[1.]\n",
      "down\n",
      "[1.]\n",
      "down\n",
      "[1.]\n",
      "down\n"
     ]
    },
    {
     "name": "stderr",
     "output_type": "stream",
     "text": [
      "/Users/aryansood/anaconda3/lib/python3.11/site-packages/sklearn/base.py:493: UserWarning: X does not have valid feature names, but RidgeClassifier was fitted with feature names\n",
      "  warnings.warn(\n",
      "/Users/aryansood/anaconda3/lib/python3.11/site-packages/sklearn/base.py:493: UserWarning: X does not have valid feature names, but RidgeClassifier was fitted with feature names\n",
      "  warnings.warn(\n",
      "/Users/aryansood/anaconda3/lib/python3.11/site-packages/sklearn/base.py:493: UserWarning: X does not have valid feature names, but RidgeClassifier was fitted with feature names\n",
      "  warnings.warn(\n"
     ]
    },
    {
     "name": "stdout",
     "output_type": "stream",
     "text": [
      "[1.]\n",
      "down\n",
      "[1.]\n",
      "down\n",
      "[1.]\n",
      "down\n"
     ]
    },
    {
     "name": "stderr",
     "output_type": "stream",
     "text": [
      "/Users/aryansood/anaconda3/lib/python3.11/site-packages/sklearn/base.py:493: UserWarning: X does not have valid feature names, but RidgeClassifier was fitted with feature names\n",
      "  warnings.warn(\n",
      "/Users/aryansood/anaconda3/lib/python3.11/site-packages/sklearn/base.py:493: UserWarning: X does not have valid feature names, but RidgeClassifier was fitted with feature names\n",
      "  warnings.warn(\n",
      "/Users/aryansood/anaconda3/lib/python3.11/site-packages/sklearn/base.py:493: UserWarning: X does not have valid feature names, but RidgeClassifier was fitted with feature names\n",
      "  warnings.warn(\n"
     ]
    },
    {
     "name": "stdout",
     "output_type": "stream",
     "text": [
      "[1.]\n",
      "down\n",
      "[1.]\n",
      "down\n",
      "[1.]\n",
      "down\n"
     ]
    },
    {
     "name": "stderr",
     "output_type": "stream",
     "text": [
      "/Users/aryansood/anaconda3/lib/python3.11/site-packages/sklearn/base.py:493: UserWarning: X does not have valid feature names, but RidgeClassifier was fitted with feature names\n",
      "  warnings.warn(\n",
      "/Users/aryansood/anaconda3/lib/python3.11/site-packages/sklearn/base.py:493: UserWarning: X does not have valid feature names, but RidgeClassifier was fitted with feature names\n",
      "  warnings.warn(\n",
      "/Users/aryansood/anaconda3/lib/python3.11/site-packages/sklearn/base.py:493: UserWarning: X does not have valid feature names, but RidgeClassifier was fitted with feature names\n",
      "  warnings.warn(\n"
     ]
    },
    {
     "name": "stdout",
     "output_type": "stream",
     "text": [
      "[1.]\n",
      "down\n",
      "[1.]\n",
      "down\n",
      "[1.]\n",
      "down\n"
     ]
    },
    {
     "name": "stderr",
     "output_type": "stream",
     "text": [
      "/Users/aryansood/anaconda3/lib/python3.11/site-packages/sklearn/base.py:493: UserWarning: X does not have valid feature names, but RidgeClassifier was fitted with feature names\n",
      "  warnings.warn(\n",
      "/Users/aryansood/anaconda3/lib/python3.11/site-packages/sklearn/base.py:493: UserWarning: X does not have valid feature names, but RidgeClassifier was fitted with feature names\n",
      "  warnings.warn(\n",
      "/Users/aryansood/anaconda3/lib/python3.11/site-packages/sklearn/base.py:493: UserWarning: X does not have valid feature names, but RidgeClassifier was fitted with feature names\n",
      "  warnings.warn(\n"
     ]
    },
    {
     "name": "stdout",
     "output_type": "stream",
     "text": [
      "[1.]\n",
      "down\n",
      "[1.]\n",
      "down\n",
      "[0.]\n",
      "up\n"
     ]
    },
    {
     "name": "stderr",
     "output_type": "stream",
     "text": [
      "/Users/aryansood/anaconda3/lib/python3.11/site-packages/sklearn/base.py:493: UserWarning: X does not have valid feature names, but RidgeClassifier was fitted with feature names\n",
      "  warnings.warn(\n",
      "/Users/aryansood/anaconda3/lib/python3.11/site-packages/sklearn/base.py:493: UserWarning: X does not have valid feature names, but RidgeClassifier was fitted with feature names\n",
      "  warnings.warn(\n"
     ]
    },
    {
     "name": "stdout",
     "output_type": "stream",
     "text": [
      "[0.]\n",
      "up\n",
      "[0.]\n",
      "up\n"
     ]
    },
    {
     "name": "stderr",
     "output_type": "stream",
     "text": [
      "/Users/aryansood/anaconda3/lib/python3.11/site-packages/sklearn/base.py:493: UserWarning: X does not have valid feature names, but RidgeClassifier was fitted with feature names\n",
      "  warnings.warn(\n",
      "/Users/aryansood/anaconda3/lib/python3.11/site-packages/sklearn/base.py:493: UserWarning: X does not have valid feature names, but RidgeClassifier was fitted with feature names\n",
      "  warnings.warn(\n",
      "/Users/aryansood/anaconda3/lib/python3.11/site-packages/sklearn/base.py:493: UserWarning: X does not have valid feature names, but RidgeClassifier was fitted with feature names\n",
      "  warnings.warn(\n"
     ]
    },
    {
     "name": "stdout",
     "output_type": "stream",
     "text": [
      "[0.]\n",
      "up\n",
      "[0.]\n",
      "up\n",
      "[0.]\n",
      "up\n"
     ]
    },
    {
     "name": "stderr",
     "output_type": "stream",
     "text": [
      "/Users/aryansood/anaconda3/lib/python3.11/site-packages/sklearn/base.py:493: UserWarning: X does not have valid feature names, but RidgeClassifier was fitted with feature names\n",
      "  warnings.warn(\n",
      "/Users/aryansood/anaconda3/lib/python3.11/site-packages/sklearn/base.py:493: UserWarning: X does not have valid feature names, but RidgeClassifier was fitted with feature names\n",
      "  warnings.warn(\n",
      "/Users/aryansood/anaconda3/lib/python3.11/site-packages/sklearn/base.py:493: UserWarning: X does not have valid feature names, but RidgeClassifier was fitted with feature names\n",
      "  warnings.warn(\n"
     ]
    },
    {
     "name": "stdout",
     "output_type": "stream",
     "text": [
      "[0.]\n",
      "up\n",
      "[0.]\n",
      "up\n",
      "[0.]\n",
      "up\n"
     ]
    },
    {
     "name": "stderr",
     "output_type": "stream",
     "text": [
      "/Users/aryansood/anaconda3/lib/python3.11/site-packages/sklearn/base.py:493: UserWarning: X does not have valid feature names, but RidgeClassifier was fitted with feature names\n",
      "  warnings.warn(\n",
      "/Users/aryansood/anaconda3/lib/python3.11/site-packages/sklearn/base.py:493: UserWarning: X does not have valid feature names, but RidgeClassifier was fitted with feature names\n",
      "  warnings.warn(\n",
      "/Users/aryansood/anaconda3/lib/python3.11/site-packages/sklearn/base.py:493: UserWarning: X does not have valid feature names, but RidgeClassifier was fitted with feature names\n",
      "  warnings.warn(\n"
     ]
    },
    {
     "name": "stdout",
     "output_type": "stream",
     "text": [
      "[0.]\n",
      "up\n",
      "[0.]\n",
      "up\n",
      "[0.]\n",
      "up\n"
     ]
    },
    {
     "name": "stderr",
     "output_type": "stream",
     "text": [
      "/Users/aryansood/anaconda3/lib/python3.11/site-packages/sklearn/base.py:493: UserWarning: X does not have valid feature names, but RidgeClassifier was fitted with feature names\n",
      "  warnings.warn(\n",
      "/Users/aryansood/anaconda3/lib/python3.11/site-packages/sklearn/base.py:493: UserWarning: X does not have valid feature names, but RidgeClassifier was fitted with feature names\n",
      "  warnings.warn(\n",
      "/Users/aryansood/anaconda3/lib/python3.11/site-packages/sklearn/base.py:493: UserWarning: X does not have valid feature names, but RidgeClassifier was fitted with feature names\n",
      "  warnings.warn(\n"
     ]
    },
    {
     "name": "stdout",
     "output_type": "stream",
     "text": [
      "[0.]\n",
      "up\n",
      "[0.]\n",
      "up\n",
      "[0.]\n",
      "up\n"
     ]
    },
    {
     "name": "stderr",
     "output_type": "stream",
     "text": [
      "/Users/aryansood/anaconda3/lib/python3.11/site-packages/sklearn/base.py:493: UserWarning: X does not have valid feature names, but RidgeClassifier was fitted with feature names\n",
      "  warnings.warn(\n",
      "/Users/aryansood/anaconda3/lib/python3.11/site-packages/sklearn/base.py:493: UserWarning: X does not have valid feature names, but RidgeClassifier was fitted with feature names\n",
      "  warnings.warn(\n",
      "/Users/aryansood/anaconda3/lib/python3.11/site-packages/sklearn/base.py:493: UserWarning: X does not have valid feature names, but RidgeClassifier was fitted with feature names\n",
      "  warnings.warn(\n"
     ]
    },
    {
     "name": "stdout",
     "output_type": "stream",
     "text": [
      "[0.]\n",
      "up\n",
      "[0.]\n",
      "up\n",
      "[0.]\n",
      "up\n"
     ]
    },
    {
     "name": "stderr",
     "output_type": "stream",
     "text": [
      "/Users/aryansood/anaconda3/lib/python3.11/site-packages/sklearn/base.py:493: UserWarning: X does not have valid feature names, but RidgeClassifier was fitted with feature names\n",
      "  warnings.warn(\n",
      "/Users/aryansood/anaconda3/lib/python3.11/site-packages/sklearn/base.py:493: UserWarning: X does not have valid feature names, but RidgeClassifier was fitted with feature names\n",
      "  warnings.warn(\n",
      "/Users/aryansood/anaconda3/lib/python3.11/site-packages/sklearn/base.py:493: UserWarning: X does not have valid feature names, but RidgeClassifier was fitted with feature names\n",
      "  warnings.warn(\n"
     ]
    },
    {
     "name": "stdout",
     "output_type": "stream",
     "text": [
      "[0.]\n",
      "up\n",
      "[0.]\n",
      "up\n",
      "[0.]\n",
      "up\n"
     ]
    },
    {
     "name": "stderr",
     "output_type": "stream",
     "text": [
      "/Users/aryansood/anaconda3/lib/python3.11/site-packages/sklearn/base.py:493: UserWarning: X does not have valid feature names, but RidgeClassifier was fitted with feature names\n",
      "  warnings.warn(\n",
      "/Users/aryansood/anaconda3/lib/python3.11/site-packages/sklearn/base.py:493: UserWarning: X does not have valid feature names, but RidgeClassifier was fitted with feature names\n",
      "  warnings.warn(\n"
     ]
    },
    {
     "name": "stdout",
     "output_type": "stream",
     "text": [
      "[0.]\n",
      "up\n",
      "[0.]\n",
      "up\n"
     ]
    },
    {
     "name": "stderr",
     "output_type": "stream",
     "text": [
      "/Users/aryansood/anaconda3/lib/python3.11/site-packages/sklearn/base.py:493: UserWarning: X does not have valid feature names, but RidgeClassifier was fitted with feature names\n",
      "  warnings.warn(\n",
      "/Users/aryansood/anaconda3/lib/python3.11/site-packages/sklearn/base.py:493: UserWarning: X does not have valid feature names, but RidgeClassifier was fitted with feature names\n",
      "  warnings.warn(\n",
      "/Users/aryansood/anaconda3/lib/python3.11/site-packages/sklearn/base.py:493: UserWarning: X does not have valid feature names, but RidgeClassifier was fitted with feature names\n",
      "  warnings.warn(\n"
     ]
    },
    {
     "name": "stdout",
     "output_type": "stream",
     "text": [
      "[0.]\n",
      "up\n",
      "[0.]\n",
      "up\n",
      "[0.]\n",
      "up\n"
     ]
    },
    {
     "name": "stderr",
     "output_type": "stream",
     "text": [
      "/Users/aryansood/anaconda3/lib/python3.11/site-packages/sklearn/base.py:493: UserWarning: X does not have valid feature names, but RidgeClassifier was fitted with feature names\n",
      "  warnings.warn(\n",
      "/Users/aryansood/anaconda3/lib/python3.11/site-packages/sklearn/base.py:493: UserWarning: X does not have valid feature names, but RidgeClassifier was fitted with feature names\n",
      "  warnings.warn(\n",
      "/Users/aryansood/anaconda3/lib/python3.11/site-packages/sklearn/base.py:493: UserWarning: X does not have valid feature names, but RidgeClassifier was fitted with feature names\n",
      "  warnings.warn(\n"
     ]
    },
    {
     "name": "stdout",
     "output_type": "stream",
     "text": [
      "[1.]\n",
      "down\n",
      "[1.]\n",
      "down\n",
      "[1.]\n",
      "down\n"
     ]
    },
    {
     "name": "stderr",
     "output_type": "stream",
     "text": [
      "/Users/aryansood/anaconda3/lib/python3.11/site-packages/sklearn/base.py:493: UserWarning: X does not have valid feature names, but RidgeClassifier was fitted with feature names\n",
      "  warnings.warn(\n",
      "/Users/aryansood/anaconda3/lib/python3.11/site-packages/sklearn/base.py:493: UserWarning: X does not have valid feature names, but RidgeClassifier was fitted with feature names\n",
      "  warnings.warn(\n",
      "/Users/aryansood/anaconda3/lib/python3.11/site-packages/sklearn/base.py:493: UserWarning: X does not have valid feature names, but RidgeClassifier was fitted with feature names\n",
      "  warnings.warn(\n"
     ]
    },
    {
     "name": "stdout",
     "output_type": "stream",
     "text": [
      "[1.]\n",
      "down\n",
      "[1.]\n",
      "down\n",
      "[1.]\n",
      "down\n"
     ]
    },
    {
     "name": "stderr",
     "output_type": "stream",
     "text": [
      "/Users/aryansood/anaconda3/lib/python3.11/site-packages/sklearn/base.py:493: UserWarning: X does not have valid feature names, but RidgeClassifier was fitted with feature names\n",
      "  warnings.warn(\n",
      "/Users/aryansood/anaconda3/lib/python3.11/site-packages/sklearn/base.py:493: UserWarning: X does not have valid feature names, but RidgeClassifier was fitted with feature names\n",
      "  warnings.warn(\n",
      "/Users/aryansood/anaconda3/lib/python3.11/site-packages/sklearn/base.py:493: UserWarning: X does not have valid feature names, but RidgeClassifier was fitted with feature names\n",
      "  warnings.warn(\n"
     ]
    },
    {
     "name": "stdout",
     "output_type": "stream",
     "text": [
      "[1.]\n",
      "down\n",
      "[1.]\n",
      "down\n",
      "[1.]\n",
      "down\n"
     ]
    },
    {
     "name": "stderr",
     "output_type": "stream",
     "text": [
      "/Users/aryansood/anaconda3/lib/python3.11/site-packages/sklearn/base.py:493: UserWarning: X does not have valid feature names, but RidgeClassifier was fitted with feature names\n",
      "  warnings.warn(\n",
      "/Users/aryansood/anaconda3/lib/python3.11/site-packages/sklearn/base.py:493: UserWarning: X does not have valid feature names, but RidgeClassifier was fitted with feature names\n",
      "  warnings.warn(\n",
      "/Users/aryansood/anaconda3/lib/python3.11/site-packages/sklearn/base.py:493: UserWarning: X does not have valid feature names, but RidgeClassifier was fitted with feature names\n",
      "  warnings.warn(\n"
     ]
    },
    {
     "name": "stdout",
     "output_type": "stream",
     "text": [
      "[1.]\n",
      "down\n",
      "[1.]\n",
      "down\n",
      "[1.]\n",
      "down\n"
     ]
    },
    {
     "name": "stderr",
     "output_type": "stream",
     "text": [
      "/Users/aryansood/anaconda3/lib/python3.11/site-packages/sklearn/base.py:493: UserWarning: X does not have valid feature names, but RidgeClassifier was fitted with feature names\n",
      "  warnings.warn(\n",
      "/Users/aryansood/anaconda3/lib/python3.11/site-packages/sklearn/base.py:493: UserWarning: X does not have valid feature names, but RidgeClassifier was fitted with feature names\n",
      "  warnings.warn(\n",
      "/Users/aryansood/anaconda3/lib/python3.11/site-packages/sklearn/base.py:493: UserWarning: X does not have valid feature names, but RidgeClassifier was fitted with feature names\n",
      "  warnings.warn(\n"
     ]
    },
    {
     "name": "stdout",
     "output_type": "stream",
     "text": [
      "[1.]\n",
      "down\n",
      "[1.]\n",
      "down\n",
      "[0.]\n",
      "up\n"
     ]
    },
    {
     "name": "stderr",
     "output_type": "stream",
     "text": [
      "/Users/aryansood/anaconda3/lib/python3.11/site-packages/sklearn/base.py:493: UserWarning: X does not have valid feature names, but RidgeClassifier was fitted with feature names\n",
      "  warnings.warn(\n",
      "/Users/aryansood/anaconda3/lib/python3.11/site-packages/sklearn/base.py:493: UserWarning: X does not have valid feature names, but RidgeClassifier was fitted with feature names\n",
      "  warnings.warn(\n"
     ]
    },
    {
     "name": "stdout",
     "output_type": "stream",
     "text": [
      "[0.]\n",
      "up\n",
      "[0.]\n",
      "up\n"
     ]
    },
    {
     "name": "stderr",
     "output_type": "stream",
     "text": [
      "/Users/aryansood/anaconda3/lib/python3.11/site-packages/sklearn/base.py:493: UserWarning: X does not have valid feature names, but RidgeClassifier was fitted with feature names\n",
      "  warnings.warn(\n",
      "/Users/aryansood/anaconda3/lib/python3.11/site-packages/sklearn/base.py:493: UserWarning: X does not have valid feature names, but RidgeClassifier was fitted with feature names\n",
      "  warnings.warn(\n",
      "/Users/aryansood/anaconda3/lib/python3.11/site-packages/sklearn/base.py:493: UserWarning: X does not have valid feature names, but RidgeClassifier was fitted with feature names\n",
      "  warnings.warn(\n"
     ]
    },
    {
     "name": "stdout",
     "output_type": "stream",
     "text": [
      "[0.]\n",
      "up\n",
      "[0.]\n",
      "up\n",
      "[0.]\n",
      "up\n"
     ]
    },
    {
     "name": "stderr",
     "output_type": "stream",
     "text": [
      "/Users/aryansood/anaconda3/lib/python3.11/site-packages/sklearn/base.py:493: UserWarning: X does not have valid feature names, but RidgeClassifier was fitted with feature names\n",
      "  warnings.warn(\n",
      "/Users/aryansood/anaconda3/lib/python3.11/site-packages/sklearn/base.py:493: UserWarning: X does not have valid feature names, but RidgeClassifier was fitted with feature names\n",
      "  warnings.warn(\n",
      "/Users/aryansood/anaconda3/lib/python3.11/site-packages/sklearn/base.py:493: UserWarning: X does not have valid feature names, but RidgeClassifier was fitted with feature names\n",
      "  warnings.warn(\n"
     ]
    },
    {
     "name": "stdout",
     "output_type": "stream",
     "text": [
      "[0.]\n",
      "up\n",
      "[0.]\n",
      "up\n",
      "[0.]\n",
      "up\n"
     ]
    },
    {
     "name": "stderr",
     "output_type": "stream",
     "text": [
      "/Users/aryansood/anaconda3/lib/python3.11/site-packages/sklearn/base.py:493: UserWarning: X does not have valid feature names, but RidgeClassifier was fitted with feature names\n",
      "  warnings.warn(\n",
      "/Users/aryansood/anaconda3/lib/python3.11/site-packages/sklearn/base.py:493: UserWarning: X does not have valid feature names, but RidgeClassifier was fitted with feature names\n",
      "  warnings.warn(\n",
      "/Users/aryansood/anaconda3/lib/python3.11/site-packages/sklearn/base.py:493: UserWarning: X does not have valid feature names, but RidgeClassifier was fitted with feature names\n",
      "  warnings.warn(\n"
     ]
    },
    {
     "name": "stdout",
     "output_type": "stream",
     "text": [
      "[0.]\n",
      "up\n",
      "[1.]\n",
      "down\n",
      "[1.]\n",
      "down\n"
     ]
    },
    {
     "name": "stderr",
     "output_type": "stream",
     "text": [
      "/Users/aryansood/anaconda3/lib/python3.11/site-packages/sklearn/base.py:493: UserWarning: X does not have valid feature names, but RidgeClassifier was fitted with feature names\n",
      "  warnings.warn(\n",
      "/Users/aryansood/anaconda3/lib/python3.11/site-packages/sklearn/base.py:493: UserWarning: X does not have valid feature names, but RidgeClassifier was fitted with feature names\n",
      "  warnings.warn(\n"
     ]
    },
    {
     "name": "stdout",
     "output_type": "stream",
     "text": [
      "[1.]\n",
      "down\n",
      "[0.]\n",
      "up\n"
     ]
    },
    {
     "name": "stderr",
     "output_type": "stream",
     "text": [
      "/Users/aryansood/anaconda3/lib/python3.11/site-packages/sklearn/base.py:493: UserWarning: X does not have valid feature names, but RidgeClassifier was fitted with feature names\n",
      "  warnings.warn(\n",
      "/Users/aryansood/anaconda3/lib/python3.11/site-packages/sklearn/base.py:493: UserWarning: X does not have valid feature names, but RidgeClassifier was fitted with feature names\n",
      "  warnings.warn(\n",
      "/Users/aryansood/anaconda3/lib/python3.11/site-packages/sklearn/base.py:493: UserWarning: X does not have valid feature names, but RidgeClassifier was fitted with feature names\n",
      "  warnings.warn(\n"
     ]
    },
    {
     "name": "stdout",
     "output_type": "stream",
     "text": [
      "[0.]\n",
      "up\n",
      "[0.]\n",
      "up\n",
      "[0.]\n",
      "up\n"
     ]
    },
    {
     "name": "stderr",
     "output_type": "stream",
     "text": [
      "/Users/aryansood/anaconda3/lib/python3.11/site-packages/sklearn/base.py:493: UserWarning: X does not have valid feature names, but RidgeClassifier was fitted with feature names\n",
      "  warnings.warn(\n",
      "/Users/aryansood/anaconda3/lib/python3.11/site-packages/sklearn/base.py:493: UserWarning: X does not have valid feature names, but RidgeClassifier was fitted with feature names\n",
      "  warnings.warn(\n"
     ]
    },
    {
     "name": "stdout",
     "output_type": "stream",
     "text": [
      "[1.]\n",
      "down\n",
      "[1.]\n",
      "down\n"
     ]
    },
    {
     "name": "stderr",
     "output_type": "stream",
     "text": [
      "/Users/aryansood/anaconda3/lib/python3.11/site-packages/sklearn/base.py:493: UserWarning: X does not have valid feature names, but RidgeClassifier was fitted with feature names\n",
      "  warnings.warn(\n",
      "/Users/aryansood/anaconda3/lib/python3.11/site-packages/sklearn/base.py:493: UserWarning: X does not have valid feature names, but RidgeClassifier was fitted with feature names\n",
      "  warnings.warn(\n",
      "/Users/aryansood/anaconda3/lib/python3.11/site-packages/sklearn/base.py:493: UserWarning: X does not have valid feature names, but RidgeClassifier was fitted with feature names\n",
      "  warnings.warn(\n"
     ]
    },
    {
     "name": "stdout",
     "output_type": "stream",
     "text": [
      "[1.]\n",
      "down\n",
      "[1.]\n",
      "down\n",
      "[1.]\n",
      "down\n"
     ]
    },
    {
     "name": "stderr",
     "output_type": "stream",
     "text": [
      "/Users/aryansood/anaconda3/lib/python3.11/site-packages/sklearn/base.py:493: UserWarning: X does not have valid feature names, but RidgeClassifier was fitted with feature names\n",
      "  warnings.warn(\n",
      "/Users/aryansood/anaconda3/lib/python3.11/site-packages/sklearn/base.py:493: UserWarning: X does not have valid feature names, but RidgeClassifier was fitted with feature names\n",
      "  warnings.warn(\n",
      "/Users/aryansood/anaconda3/lib/python3.11/site-packages/sklearn/base.py:493: UserWarning: X does not have valid feature names, but RidgeClassifier was fitted with feature names\n",
      "  warnings.warn(\n"
     ]
    },
    {
     "name": "stdout",
     "output_type": "stream",
     "text": [
      "[1.]\n",
      "down\n",
      "[1.]\n",
      "down\n",
      "[1.]\n",
      "down\n"
     ]
    },
    {
     "name": "stderr",
     "output_type": "stream",
     "text": [
      "/Users/aryansood/anaconda3/lib/python3.11/site-packages/sklearn/base.py:493: UserWarning: X does not have valid feature names, but RidgeClassifier was fitted with feature names\n",
      "  warnings.warn(\n",
      "/Users/aryansood/anaconda3/lib/python3.11/site-packages/sklearn/base.py:493: UserWarning: X does not have valid feature names, but RidgeClassifier was fitted with feature names\n",
      "  warnings.warn(\n"
     ]
    },
    {
     "name": "stdout",
     "output_type": "stream",
     "text": [
      "[1.]\n",
      "down\n",
      "[0.]\n",
      "up\n"
     ]
    },
    {
     "name": "stderr",
     "output_type": "stream",
     "text": [
      "/Users/aryansood/anaconda3/lib/python3.11/site-packages/sklearn/base.py:493: UserWarning: X does not have valid feature names, but RidgeClassifier was fitted with feature names\n",
      "  warnings.warn(\n",
      "/Users/aryansood/anaconda3/lib/python3.11/site-packages/sklearn/base.py:493: UserWarning: X does not have valid feature names, but RidgeClassifier was fitted with feature names\n",
      "  warnings.warn(\n",
      "/Users/aryansood/anaconda3/lib/python3.11/site-packages/sklearn/base.py:493: UserWarning: X does not have valid feature names, but RidgeClassifier was fitted with feature names\n",
      "  warnings.warn(\n"
     ]
    },
    {
     "name": "stdout",
     "output_type": "stream",
     "text": [
      "[0.]\n",
      "up\n",
      "[0.]\n",
      "up\n",
      "[0.]\n",
      "up\n"
     ]
    },
    {
     "name": "stderr",
     "output_type": "stream",
     "text": [
      "/Users/aryansood/anaconda3/lib/python3.11/site-packages/sklearn/base.py:493: UserWarning: X does not have valid feature names, but RidgeClassifier was fitted with feature names\n",
      "  warnings.warn(\n",
      "/Users/aryansood/anaconda3/lib/python3.11/site-packages/sklearn/base.py:493: UserWarning: X does not have valid feature names, but RidgeClassifier was fitted with feature names\n",
      "  warnings.warn(\n",
      "/Users/aryansood/anaconda3/lib/python3.11/site-packages/sklearn/base.py:493: UserWarning: X does not have valid feature names, but RidgeClassifier was fitted with feature names\n",
      "  warnings.warn(\n"
     ]
    },
    {
     "name": "stdout",
     "output_type": "stream",
     "text": [
      "[0.]\n",
      "up\n",
      "[1.]\n",
      "down\n",
      "[1.]\n",
      "down\n"
     ]
    },
    {
     "name": "stderr",
     "output_type": "stream",
     "text": [
      "/Users/aryansood/anaconda3/lib/python3.11/site-packages/sklearn/base.py:493: UserWarning: X does not have valid feature names, but RidgeClassifier was fitted with feature names\n",
      "  warnings.warn(\n",
      "/Users/aryansood/anaconda3/lib/python3.11/site-packages/sklearn/base.py:493: UserWarning: X does not have valid feature names, but RidgeClassifier was fitted with feature names\n",
      "  warnings.warn(\n"
     ]
    },
    {
     "name": "stdout",
     "output_type": "stream",
     "text": [
      "[0.]\n",
      "up\n",
      "[0.]\n",
      "up\n"
     ]
    },
    {
     "name": "stderr",
     "output_type": "stream",
     "text": [
      "/Users/aryansood/anaconda3/lib/python3.11/site-packages/sklearn/base.py:493: UserWarning: X does not have valid feature names, but RidgeClassifier was fitted with feature names\n",
      "  warnings.warn(\n",
      "/Users/aryansood/anaconda3/lib/python3.11/site-packages/sklearn/base.py:493: UserWarning: X does not have valid feature names, but RidgeClassifier was fitted with feature names\n",
      "  warnings.warn(\n",
      "/Users/aryansood/anaconda3/lib/python3.11/site-packages/sklearn/base.py:493: UserWarning: X does not have valid feature names, but RidgeClassifier was fitted with feature names\n",
      "  warnings.warn(\n"
     ]
    },
    {
     "name": "stdout",
     "output_type": "stream",
     "text": [
      "[1.]\n",
      "down\n",
      "[0.]\n",
      "up\n",
      "[0.]\n",
      "up\n"
     ]
    },
    {
     "name": "stderr",
     "output_type": "stream",
     "text": [
      "/Users/aryansood/anaconda3/lib/python3.11/site-packages/sklearn/base.py:493: UserWarning: X does not have valid feature names, but RidgeClassifier was fitted with feature names\n",
      "  warnings.warn(\n",
      "/Users/aryansood/anaconda3/lib/python3.11/site-packages/sklearn/base.py:493: UserWarning: X does not have valid feature names, but RidgeClassifier was fitted with feature names\n",
      "  warnings.warn(\n"
     ]
    },
    {
     "name": "stdout",
     "output_type": "stream",
     "text": [
      "[1.]\n",
      "down\n",
      "[1.]\n",
      "down\n"
     ]
    },
    {
     "name": "stderr",
     "output_type": "stream",
     "text": [
      "/Users/aryansood/anaconda3/lib/python3.11/site-packages/sklearn/base.py:493: UserWarning: X does not have valid feature names, but RidgeClassifier was fitted with feature names\n",
      "  warnings.warn(\n",
      "/Users/aryansood/anaconda3/lib/python3.11/site-packages/sklearn/base.py:493: UserWarning: X does not have valid feature names, but RidgeClassifier was fitted with feature names\n",
      "  warnings.warn(\n",
      "/Users/aryansood/anaconda3/lib/python3.11/site-packages/sklearn/base.py:493: UserWarning: X does not have valid feature names, but RidgeClassifier was fitted with feature names\n",
      "  warnings.warn(\n"
     ]
    },
    {
     "name": "stdout",
     "output_type": "stream",
     "text": [
      "[1.]\n",
      "down\n",
      "[1.]\n",
      "down\n",
      "[1.]\n",
      "down\n"
     ]
    },
    {
     "name": "stderr",
     "output_type": "stream",
     "text": [
      "/Users/aryansood/anaconda3/lib/python3.11/site-packages/sklearn/base.py:493: UserWarning: X does not have valid feature names, but RidgeClassifier was fitted with feature names\n",
      "  warnings.warn(\n",
      "/Users/aryansood/anaconda3/lib/python3.11/site-packages/sklearn/base.py:493: UserWarning: X does not have valid feature names, but RidgeClassifier was fitted with feature names\n",
      "  warnings.warn(\n",
      "/Users/aryansood/anaconda3/lib/python3.11/site-packages/sklearn/base.py:493: UserWarning: X does not have valid feature names, but RidgeClassifier was fitted with feature names\n",
      "  warnings.warn(\n"
     ]
    },
    {
     "name": "stdout",
     "output_type": "stream",
     "text": [
      "[1.]\n",
      "down\n",
      "[1.]\n",
      "down\n",
      "[1.]\n",
      "down\n"
     ]
    },
    {
     "name": "stderr",
     "output_type": "stream",
     "text": [
      "/Users/aryansood/anaconda3/lib/python3.11/site-packages/sklearn/base.py:493: UserWarning: X does not have valid feature names, but RidgeClassifier was fitted with feature names\n",
      "  warnings.warn(\n",
      "/Users/aryansood/anaconda3/lib/python3.11/site-packages/sklearn/base.py:493: UserWarning: X does not have valid feature names, but RidgeClassifier was fitted with feature names\n",
      "  warnings.warn(\n",
      "/Users/aryansood/anaconda3/lib/python3.11/site-packages/sklearn/base.py:493: UserWarning: X does not have valid feature names, but RidgeClassifier was fitted with feature names\n",
      "  warnings.warn(\n"
     ]
    },
    {
     "name": "stdout",
     "output_type": "stream",
     "text": [
      "[0.]\n",
      "up\n",
      "[0.]\n",
      "up\n",
      "[0.]\n",
      "up\n"
     ]
    },
    {
     "name": "stderr",
     "output_type": "stream",
     "text": [
      "/Users/aryansood/anaconda3/lib/python3.11/site-packages/sklearn/base.py:493: UserWarning: X does not have valid feature names, but RidgeClassifier was fitted with feature names\n",
      "  warnings.warn(\n",
      "/Users/aryansood/anaconda3/lib/python3.11/site-packages/sklearn/base.py:493: UserWarning: X does not have valid feature names, but RidgeClassifier was fitted with feature names\n",
      "  warnings.warn(\n",
      "/Users/aryansood/anaconda3/lib/python3.11/site-packages/sklearn/base.py:493: UserWarning: X does not have valid feature names, but RidgeClassifier was fitted with feature names\n",
      "  warnings.warn(\n"
     ]
    },
    {
     "name": "stdout",
     "output_type": "stream",
     "text": [
      "[0.]\n",
      "up\n",
      "[0.]\n",
      "up\n",
      "[1.]\n",
      "down\n"
     ]
    },
    {
     "name": "stderr",
     "output_type": "stream",
     "text": [
      "/Users/aryansood/anaconda3/lib/python3.11/site-packages/sklearn/base.py:493: UserWarning: X does not have valid feature names, but RidgeClassifier was fitted with feature names\n",
      "  warnings.warn(\n",
      "/Users/aryansood/anaconda3/lib/python3.11/site-packages/sklearn/base.py:493: UserWarning: X does not have valid feature names, but RidgeClassifier was fitted with feature names\n",
      "  warnings.warn(\n"
     ]
    },
    {
     "name": "stdout",
     "output_type": "stream",
     "text": [
      "[1.]\n",
      "down\n",
      "[0.]\n",
      "up\n"
     ]
    },
    {
     "name": "stderr",
     "output_type": "stream",
     "text": [
      "/Users/aryansood/anaconda3/lib/python3.11/site-packages/sklearn/base.py:493: UserWarning: X does not have valid feature names, but RidgeClassifier was fitted with feature names\n",
      "  warnings.warn(\n",
      "/Users/aryansood/anaconda3/lib/python3.11/site-packages/sklearn/base.py:493: UserWarning: X does not have valid feature names, but RidgeClassifier was fitted with feature names\n",
      "  warnings.warn(\n",
      "/Users/aryansood/anaconda3/lib/python3.11/site-packages/sklearn/base.py:493: UserWarning: X does not have valid feature names, but RidgeClassifier was fitted with feature names\n",
      "  warnings.warn(\n"
     ]
    },
    {
     "name": "stdout",
     "output_type": "stream",
     "text": [
      "[0.]\n",
      "up\n",
      "[0.]\n",
      "up\n",
      "[0.]\n",
      "up\n"
     ]
    },
    {
     "name": "stderr",
     "output_type": "stream",
     "text": [
      "/Users/aryansood/anaconda3/lib/python3.11/site-packages/sklearn/base.py:493: UserWarning: X does not have valid feature names, but RidgeClassifier was fitted with feature names\n",
      "  warnings.warn(\n",
      "/Users/aryansood/anaconda3/lib/python3.11/site-packages/sklearn/base.py:493: UserWarning: X does not have valid feature names, but RidgeClassifier was fitted with feature names\n",
      "  warnings.warn(\n"
     ]
    },
    {
     "name": "stdout",
     "output_type": "stream",
     "text": [
      "[0.]\n",
      "up\n",
      "[0.]\n",
      "up\n"
     ]
    },
    {
     "name": "stderr",
     "output_type": "stream",
     "text": [
      "/Users/aryansood/anaconda3/lib/python3.11/site-packages/sklearn/base.py:493: UserWarning: X does not have valid feature names, but RidgeClassifier was fitted with feature names\n",
      "  warnings.warn(\n",
      "/Users/aryansood/anaconda3/lib/python3.11/site-packages/sklearn/base.py:493: UserWarning: X does not have valid feature names, but RidgeClassifier was fitted with feature names\n",
      "  warnings.warn(\n",
      "/Users/aryansood/anaconda3/lib/python3.11/site-packages/sklearn/base.py:493: UserWarning: X does not have valid feature names, but RidgeClassifier was fitted with feature names\n",
      "  warnings.warn(\n"
     ]
    },
    {
     "name": "stdout",
     "output_type": "stream",
     "text": [
      "[1.]\n",
      "down\n",
      "[1.]\n",
      "down\n",
      "[1.]\n",
      "down\n"
     ]
    },
    {
     "name": "stderr",
     "output_type": "stream",
     "text": [
      "/Users/aryansood/anaconda3/lib/python3.11/site-packages/sklearn/base.py:493: UserWarning: X does not have valid feature names, but RidgeClassifier was fitted with feature names\n",
      "  warnings.warn(\n",
      "/Users/aryansood/anaconda3/lib/python3.11/site-packages/sklearn/base.py:493: UserWarning: X does not have valid feature names, but RidgeClassifier was fitted with feature names\n",
      "  warnings.warn(\n"
     ]
    },
    {
     "name": "stdout",
     "output_type": "stream",
     "text": [
      "[0.]\n",
      "up\n",
      "[0.]\n",
      "up\n"
     ]
    },
    {
     "name": "stderr",
     "output_type": "stream",
     "text": [
      "/Users/aryansood/anaconda3/lib/python3.11/site-packages/sklearn/base.py:493: UserWarning: X does not have valid feature names, but RidgeClassifier was fitted with feature names\n",
      "  warnings.warn(\n",
      "/Users/aryansood/anaconda3/lib/python3.11/site-packages/sklearn/base.py:493: UserWarning: X does not have valid feature names, but RidgeClassifier was fitted with feature names\n",
      "  warnings.warn(\n",
      "/Users/aryansood/anaconda3/lib/python3.11/site-packages/sklearn/base.py:493: UserWarning: X does not have valid feature names, but RidgeClassifier was fitted with feature names\n",
      "  warnings.warn(\n"
     ]
    },
    {
     "name": "stdout",
     "output_type": "stream",
     "text": [
      "[0.]\n",
      "up\n",
      "[0.]\n",
      "up\n",
      "[0.]\n",
      "up\n"
     ]
    },
    {
     "name": "stderr",
     "output_type": "stream",
     "text": [
      "/Users/aryansood/anaconda3/lib/python3.11/site-packages/sklearn/base.py:493: UserWarning: X does not have valid feature names, but RidgeClassifier was fitted with feature names\n",
      "  warnings.warn(\n",
      "/Users/aryansood/anaconda3/lib/python3.11/site-packages/sklearn/base.py:493: UserWarning: X does not have valid feature names, but RidgeClassifier was fitted with feature names\n",
      "  warnings.warn(\n",
      "/Users/aryansood/anaconda3/lib/python3.11/site-packages/sklearn/base.py:493: UserWarning: X does not have valid feature names, but RidgeClassifier was fitted with feature names\n",
      "  warnings.warn(\n"
     ]
    },
    {
     "name": "stdout",
     "output_type": "stream",
     "text": [
      "[1.]\n",
      "down\n",
      "[1.]\n",
      "down\n",
      "[0.]\n",
      "up\n"
     ]
    },
    {
     "name": "stderr",
     "output_type": "stream",
     "text": [
      "/Users/aryansood/anaconda3/lib/python3.11/site-packages/sklearn/base.py:493: UserWarning: X does not have valid feature names, but RidgeClassifier was fitted with feature names\n",
      "  warnings.warn(\n",
      "/Users/aryansood/anaconda3/lib/python3.11/site-packages/sklearn/base.py:493: UserWarning: X does not have valid feature names, but RidgeClassifier was fitted with feature names\n",
      "  warnings.warn(\n"
     ]
    },
    {
     "name": "stdout",
     "output_type": "stream",
     "text": [
      "[0.]\n",
      "up\n",
      "[0.]\n",
      "up\n"
     ]
    },
    {
     "name": "stderr",
     "output_type": "stream",
     "text": [
      "/Users/aryansood/anaconda3/lib/python3.11/site-packages/sklearn/base.py:493: UserWarning: X does not have valid feature names, but RidgeClassifier was fitted with feature names\n",
      "  warnings.warn(\n",
      "/Users/aryansood/anaconda3/lib/python3.11/site-packages/sklearn/base.py:493: UserWarning: X does not have valid feature names, but RidgeClassifier was fitted with feature names\n",
      "  warnings.warn(\n",
      "/Users/aryansood/anaconda3/lib/python3.11/site-packages/sklearn/base.py:493: UserWarning: X does not have valid feature names, but RidgeClassifier was fitted with feature names\n",
      "  warnings.warn(\n"
     ]
    },
    {
     "name": "stdout",
     "output_type": "stream",
     "text": [
      "[1.]\n",
      "down\n",
      "[0.]\n",
      "up\n",
      "[0.]\n",
      "up\n"
     ]
    },
    {
     "name": "stderr",
     "output_type": "stream",
     "text": [
      "/Users/aryansood/anaconda3/lib/python3.11/site-packages/sklearn/base.py:493: UserWarning: X does not have valid feature names, but RidgeClassifier was fitted with feature names\n",
      "  warnings.warn(\n",
      "/Users/aryansood/anaconda3/lib/python3.11/site-packages/sklearn/base.py:493: UserWarning: X does not have valid feature names, but RidgeClassifier was fitted with feature names\n",
      "  warnings.warn(\n",
      "/Users/aryansood/anaconda3/lib/python3.11/site-packages/sklearn/base.py:493: UserWarning: X does not have valid feature names, but RidgeClassifier was fitted with feature names\n",
      "  warnings.warn(\n"
     ]
    },
    {
     "name": "stdout",
     "output_type": "stream",
     "text": [
      "[0.]\n",
      "up\n",
      "[0.]\n",
      "up\n",
      "[1.]\n",
      "down\n"
     ]
    },
    {
     "name": "stderr",
     "output_type": "stream",
     "text": [
      "/Users/aryansood/anaconda3/lib/python3.11/site-packages/sklearn/base.py:493: UserWarning: X does not have valid feature names, but RidgeClassifier was fitted with feature names\n",
      "  warnings.warn(\n",
      "/Users/aryansood/anaconda3/lib/python3.11/site-packages/sklearn/base.py:493: UserWarning: X does not have valid feature names, but RidgeClassifier was fitted with feature names\n",
      "  warnings.warn(\n",
      "/Users/aryansood/anaconda3/lib/python3.11/site-packages/sklearn/base.py:493: UserWarning: X does not have valid feature names, but RidgeClassifier was fitted with feature names\n",
      "  warnings.warn(\n"
     ]
    },
    {
     "name": "stdout",
     "output_type": "stream",
     "text": [
      "[0.]\n",
      "up\n",
      "[0.]\n",
      "up\n",
      "[0.]\n",
      "up\n"
     ]
    },
    {
     "name": "stderr",
     "output_type": "stream",
     "text": [
      "/Users/aryansood/anaconda3/lib/python3.11/site-packages/sklearn/base.py:493: UserWarning: X does not have valid feature names, but RidgeClassifier was fitted with feature names\n",
      "  warnings.warn(\n",
      "/Users/aryansood/anaconda3/lib/python3.11/site-packages/sklearn/base.py:493: UserWarning: X does not have valid feature names, but RidgeClassifier was fitted with feature names\n",
      "  warnings.warn(\n",
      "/Users/aryansood/anaconda3/lib/python3.11/site-packages/sklearn/base.py:493: UserWarning: X does not have valid feature names, but RidgeClassifier was fitted with feature names\n",
      "  warnings.warn(\n"
     ]
    },
    {
     "name": "stdout",
     "output_type": "stream",
     "text": [
      "[1.]\n",
      "down\n",
      "[0.]\n",
      "up\n",
      "[0.]\n",
      "up\n"
     ]
    },
    {
     "name": "stderr",
     "output_type": "stream",
     "text": [
      "/Users/aryansood/anaconda3/lib/python3.11/site-packages/sklearn/base.py:493: UserWarning: X does not have valid feature names, but RidgeClassifier was fitted with feature names\n",
      "  warnings.warn(\n",
      "/Users/aryansood/anaconda3/lib/python3.11/site-packages/sklearn/base.py:493: UserWarning: X does not have valid feature names, but RidgeClassifier was fitted with feature names\n",
      "  warnings.warn(\n",
      "/Users/aryansood/anaconda3/lib/python3.11/site-packages/sklearn/base.py:493: UserWarning: X does not have valid feature names, but RidgeClassifier was fitted with feature names\n",
      "  warnings.warn(\n"
     ]
    },
    {
     "name": "stdout",
     "output_type": "stream",
     "text": [
      "[0.]\n",
      "up\n",
      "[1.]\n",
      "down\n",
      "[1.]\n",
      "down\n"
     ]
    },
    {
     "name": "stderr",
     "output_type": "stream",
     "text": [
      "/Users/aryansood/anaconda3/lib/python3.11/site-packages/sklearn/base.py:493: UserWarning: X does not have valid feature names, but RidgeClassifier was fitted with feature names\n",
      "  warnings.warn(\n",
      "/Users/aryansood/anaconda3/lib/python3.11/site-packages/sklearn/base.py:493: UserWarning: X does not have valid feature names, but RidgeClassifier was fitted with feature names\n",
      "  warnings.warn(\n"
     ]
    },
    {
     "name": "stdout",
     "output_type": "stream",
     "text": [
      "[1.]\n",
      "down\n",
      "[1.]\n",
      "down\n"
     ]
    }
   ],
   "source": [
    "# FOR NORMAL \n",
    "import cv2\n",
    "import mediapipe as mp\n",
    "import pandas as pd\n",
    "import joblib\n",
    "import numpy as np\n",
    "from sklearn.preprocessing import LabelEncoder\n",
    "\n",
    "# Load the pretrained SVM model\n",
    "# best_svm_model = joblib.load('gesture_recognition_model.pkl')\n",
    "# best_svm_model = joblib.load('gesture_recognition_model_better.pkl')\n",
    "# best_svm_model = joblib.load('rfc_model.pkl')\n",
    "# best_svm_model = joblib.load('mlpc1.pkl')\n",
    "# best_svm_model = joblib.load('final_ridge_clf.pkl')\n",
    "best_svm_model = joblib.load('final_ridge_clf2.pkl')\n",
    "\n",
    "# Initialize MediaPipe Hand module\n",
    "mp_hands = mp.solutions.hands\n",
    "mp_drawing = mp.solutions.drawing_utils\n",
    "\n",
    "# Function to extract landmarks\n",
    "def get_landmarks(image):\n",
    "    landmark_list = []\n",
    "    image_rgb = cv2.cvtColor(image, cv2.COLOR_BGR2RGB)\n",
    "    results = hands.process(image_rgb)\n",
    "    \n",
    "    if results.multi_hand_landmarks:\n",
    "        for hand_landmarks in results.multi_hand_landmarks:\n",
    "            for landmark in hand_landmarks.landmark:\n",
    "                # Multiply x and y values by image width and height to get pixel values\n",
    "                x = int(landmark.x * image.shape[1])\n",
    "                y = int(landmark.y * image.shape[0])\n",
    "                landmark_list.append((x, y))\n",
    "    return landmark_list\n",
    "\n",
    "# Create a DataFrame to store hand landmarks\n",
    "# columns = [f'l{i}_x' for i in range(21)] + [f'l{i}_y' for i in range(21)] + [f'l{i}_z' for i in range(21)]\n",
    "columns=range(0,42)\n",
    "hand_landmarks_df = pd.DataFrame(columns=columns)\n",
    "\n",
    "# Initialize MediaPipe Hands\n",
    "with mp_hands.Hands(static_image_mode=False, max_num_hands=1, min_detection_confidence=0.9) as hands:\n",
    "    # Open the camera\n",
    "    cap = cv2.VideoCapture(1)\n",
    "\n",
    "    # Set the frame width and height\n",
    "#     cap.set(3, 640)\n",
    "#     cap.set(4, 480)\n",
    "\n",
    "    while cap.isOpened():\n",
    "        # Read a frame from the camera\n",
    "        ret, frame = cap.read()\n",
    "\n",
    "        # Convert the BGR image to RGB\n",
    "        rgb_frame = cv2.cvtColor(frame, cv2.COLOR_BGR2RGB)\n",
    "\n",
    "        # Process the frame to get hand landmarks\n",
    "        results = hands.process(rgb_frame)\n",
    "\n",
    "        # Check if hand landmarks are detected\n",
    "        if results.multi_hand_landmarks:\n",
    "            # Use the landmarks of the first detected hand (assuming one hand in the frame)\n",
    "            hand_landmarks = results.multi_hand_landmarks[0]\n",
    "            # Extract landmark positions\n",
    "            if get_landmarks(frame):\n",
    "                lst=[]\n",
    "                for i in get_landmarks(frame):\n",
    "                    for j in i:\n",
    "                        lst.append(j)\n",
    "                df=pd.DataFrame([lst])\n",
    "#                 print(df.head())\n",
    "                # Append landmark positions to the DataFrame\n",
    "                hand_landmarks_df = pd.concat([hand_landmarks_df, df ], ignore_index=True)\n",
    "\n",
    "                # Display the frame with hand landmarks (optional)\n",
    "                mp_drawing.draw_landmarks(frame, hand_landmarks, mp_hands.HAND_CONNECTIONS)\n",
    "\n",
    "                # Make predictions using the pretrained SVM model\n",
    "#                 X_frame = hand_landmarks_df.iloc[-1].values.reshape(1, -1)\n",
    "                X_frame = df\n",
    "#                 print(X_frame)\n",
    "                prediction_i = best_svm_model.predict(X_frame)\n",
    "                print(prediction_i)\n",
    "#                 predictions = label_encoder.inverse_transform(np.reshape(np.argmax(prediction_i), (1,)))\n",
    "                predictions = labels[int(prediction_i[0])]\n",
    "                # Decode the predicted label\n",
    "                predicted_gesture = predictions\n",
    "                print(predictions)\n",
    "                # Display the predicted gesture on the frame\n",
    "                cv2.putText(frame, f'Gesture: {predicted_gesture}', (10, 30), cv2.FONT_HERSHEY_SIMPLEX, 1, (255, 0, 0), 2, cv2.LINE_AA)\n",
    "#                 cv2.putText(frame, f'Action:{final_label}', (10, 30), cv2.FONT_HERSHEY_SIMPLEX, 1, (205, 0, 0), 2, cv2.LINE_AA)\n",
    "\n",
    "        cv2.imshow('Hand Landmarks', frame)\n",
    "\n",
    "        # Break the loop if 'q' key is pressed\n",
    "        if cv2.waitKey(1) & 0xFF == ord('q'):\n",
    "            break\n",
    "\n",
    "    # Release the camera and close all windows\n",
    "    cap.release()\n",
    "    cv2.destroyAllWindows()\n"
   ]
  },
  {
   "cell_type": "code",
   "execution_count": null,
   "id": "a72950df",
   "metadata": {},
   "outputs": [],
   "source": [
    "lst1=[1,2,3,45]\n",
    "df=pd.DataFrame([lst1])"
   ]
  },
  {
   "cell_type": "code",
   "execution_count": 12,
   "id": "16e88da8",
   "metadata": {},
   "outputs": [
    {
     "data": {
      "text/html": [
       "<div>\n",
       "<style scoped>\n",
       "    .dataframe tbody tr th:only-of-type {\n",
       "        vertical-align: middle;\n",
       "    }\n",
       "\n",
       "    .dataframe tbody tr th {\n",
       "        vertical-align: top;\n",
       "    }\n",
       "\n",
       "    .dataframe thead th {\n",
       "        text-align: right;\n",
       "    }\n",
       "</style>\n",
       "<table border=\"1\" class=\"dataframe\">\n",
       "  <thead>\n",
       "    <tr style=\"text-align: right;\">\n",
       "      <th></th>\n",
       "      <th>0</th>\n",
       "      <th>1</th>\n",
       "      <th>2</th>\n",
       "      <th>3</th>\n",
       "    </tr>\n",
       "  </thead>\n",
       "  <tbody>\n",
       "    <tr>\n",
       "      <th>0</th>\n",
       "      <td>1</td>\n",
       "      <td>2</td>\n",
       "      <td>3</td>\n",
       "      <td>45</td>\n",
       "    </tr>\n",
       "  </tbody>\n",
       "</table>\n",
       "</div>"
      ],
      "text/plain": [
       "   0  1  2   3\n",
       "0  1  2  3  45"
      ]
     },
     "execution_count": 12,
     "metadata": {},
     "output_type": "execute_result"
    }
   ],
   "source": [
    "df"
   ]
  },
  {
   "cell_type": "code",
   "execution_count": 18,
   "id": "acd786e9",
   "metadata": {},
   "outputs": [],
   "source": [
    "from sklearn.model_selection import train_test_split\n",
    "\n",
    "df = pd.read_csv(\"/Users/aryansood/aims/AIMS_DRONE2/newdata_final_with_updown_flip.csv\")\n",
    "df_shuffled = df.sample(frac=1, random_state=42)\n",
    "\n",
    "X = df_shuffled.drop('label', axis=1)  # Features\n",
    "y = df_shuffled['label']  # Labels\n",
    "\n",
    "# Split the shuffled data into 80% training, 10% validation, and 10% test\n",
    "X_train, X_temp, y_train, y_temp = train_test_split(X, y, test_size=0.2, random_state=42)\n",
    "X_val, X_test, y_val, y_test = train_test_split(X_temp, y_temp, test_size=0.5, random_state=42)\n",
    "\n",
    "# Concatenate X_train, X_val, and X_test vertically\n",
    "X_combined = np.concatenate((X_train, X_val, X_test), axis=0)\n",
    "\n",
    "# Concatenate y_train, y_val, and y_test vertically\n",
    "y_combined = np.concatenate((y_train, y_val, y_test), axis=0)\n",
    "\n",
    "# Encode labels using LabelEncoder\n",
    "label_encoder = LabelEncoder()\n",
    "y_combined_encoded = label_encoder.fit_transform(y_combined)"
   ]
  },
  {
   "cell_type": "code",
   "execution_count": 19,
   "id": "adf973e7",
   "metadata": {},
   "outputs": [
    {
     "name": "stdout",
     "output_type": "stream",
     "text": [
      "1/1 [==============================] - 0s 41ms/step\n",
      "bwd\n",
      "1/1 [==============================] - 0s 11ms/step\n",
      "bwd\n",
      "1/1 [==============================] - 0s 11ms/step\n",
      "bwd\n",
      "1/1 [==============================] - 0s 11ms/step\n",
      "bwd\n",
      "1/1 [==============================] - 0s 11ms/step\n",
      "bwd\n",
      "1/1 [==============================] - 0s 11ms/step\n",
      "bwd\n",
      "1/1 [==============================] - 0s 11ms/step\n",
      "bwd\n",
      "1/1 [==============================] - 0s 11ms/step\n",
      "bwd\n",
      "1/1 [==============================] - 0s 11ms/step\n",
      "bwd\n",
      "1/1 [==============================] - 0s 11ms/step\n",
      "bwd\n",
      "1/1 [==============================] - 0s 11ms/step\n",
      "bwd\n",
      "1/1 [==============================] - 0s 11ms/step\n",
      "bwd\n",
      "1/1 [==============================] - 0s 11ms/step\n",
      "bwd\n",
      "1/1 [==============================] - 0s 11ms/step\n",
      "bwd\n",
      "1/1 [==============================] - 0s 11ms/step\n",
      "bwd\n",
      "1/1 [==============================] - 0s 11ms/step\n",
      "bwd\n",
      "1/1 [==============================] - 0s 11ms/step\n",
      "bwd\n",
      "1/1 [==============================] - 0s 11ms/step\n",
      "bwd\n",
      "1/1 [==============================] - 0s 10ms/step\n",
      "bwd\n",
      "1/1 [==============================] - 0s 11ms/step\n",
      "bwd\n",
      "1/1 [==============================] - 0s 11ms/step\n",
      "bwd\n",
      "1/1 [==============================] - 0s 11ms/step\n",
      "bwd\n",
      "1/1 [==============================] - 0s 10ms/step\n",
      "land\n",
      "1/1 [==============================] - 0s 11ms/step\n",
      "land\n",
      "1/1 [==============================] - 0s 11ms/step\n",
      "land\n",
      "1/1 [==============================] - 0s 11ms/step\n",
      "land\n",
      "1/1 [==============================] - 0s 10ms/step\n",
      "land\n",
      "1/1 [==============================] - 0s 11ms/step\n",
      "land\n",
      "1/1 [==============================] - 0s 11ms/step\n",
      "bwd\n",
      "1/1 [==============================] - 0s 11ms/step\n",
      "bwd\n",
      "1/1 [==============================] - 0s 11ms/step\n",
      "bwd\n",
      "1/1 [==============================] - 0s 11ms/step\n",
      "bwd\n",
      "1/1 [==============================] - 0s 11ms/step\n",
      "bwd\n",
      "1/1 [==============================] - 0s 11ms/step\n",
      "bwd\n",
      "1/1 [==============================] - 0s 11ms/step\n",
      "bwd\n",
      "1/1 [==============================] - 0s 11ms/step\n",
      "bwd\n",
      "1/1 [==============================] - 0s 11ms/step\n",
      "bwd\n",
      "1/1 [==============================] - 0s 11ms/step\n",
      "bwd\n",
      "1/1 [==============================] - 0s 11ms/step\n",
      "bwd\n",
      "1/1 [==============================] - 0s 11ms/step\n",
      "bwd\n",
      "1/1 [==============================] - 0s 11ms/step\n",
      "bwd\n",
      "1/1 [==============================] - 0s 11ms/step\n",
      "bwd\n",
      "1/1 [==============================] - 0s 11ms/step\n",
      "bwd\n",
      "1/1 [==============================] - 0s 11ms/step\n",
      "bwd\n",
      "1/1 [==============================] - 0s 11ms/step\n",
      "bwd\n",
      "1/1 [==============================] - 0s 11ms/step\n",
      "bwd\n",
      "1/1 [==============================] - 0s 11ms/step\n",
      "bwd\n",
      "1/1 [==============================] - 0s 11ms/step\n",
      "bwd\n",
      "1/1 [==============================] - 0s 11ms/step\n",
      "up\n",
      "1/1 [==============================] - 0s 11ms/step\n",
      "up\n",
      "1/1 [==============================] - 0s 10ms/step\n",
      "up\n",
      "1/1 [==============================] - 0s 11ms/step\n",
      "up\n",
      "1/1 [==============================] - 0s 11ms/step\n",
      "up\n",
      "1/1 [==============================] - 0s 11ms/step\n",
      "up\n",
      "1/1 [==============================] - 0s 11ms/step\n",
      "bwd\n",
      "1/1 [==============================] - 0s 11ms/step\n",
      "left\n",
      "1/1 [==============================] - 0s 11ms/step\n",
      "left\n",
      "1/1 [==============================] - 0s 11ms/step\n",
      "left\n",
      "1/1 [==============================] - 0s 11ms/step\n",
      "left\n",
      "1/1 [==============================] - 0s 11ms/step\n",
      "left\n",
      "1/1 [==============================] - 0s 11ms/step\n",
      "right\n",
      "1/1 [==============================] - 0s 11ms/step\n",
      "right\n",
      "1/1 [==============================] - 0s 11ms/step\n",
      "right\n",
      "1/1 [==============================] - 0s 11ms/step\n",
      "bwd\n"
     ]
    }
   ],
   "source": [
    "# FOR NEURAL\n",
    "import cv2\n",
    "import mediapipe as mp\n",
    "import pandas as pd\n",
    "import joblib\n",
    "import numpy as np\n",
    "from sklearn.preprocessing import LabelEncoder\n",
    "\n",
    "# Load the pretrained SVM model\n",
    "# best_svm_model = joblib.load('gesture_recognition_model.pkl')\n",
    "# best_svm_model = joblib.load('gesture_recognition_model_better.pkl')\n",
    "# best_svm_model = joblib.load('rfc_model.pkl')\n",
    "# best_svm_model = joblib.load('mlpc1.pkl')\n",
    "# best_svm_model = joblib.load('final_ridge_clf.pkl')\n",
    "# best_svm_model = joblib.load('neural_new2.pkl')\n",
    "# best_svm_model = joblib.load('neural_new_optuna.pkl')\n",
    "best_svm_model = joblib.load('neural_new_aims.pkl')\n",
    "\n",
    "\n",
    "# Initialize MediaPipe Hand module\n",
    "mp_hands = mp.solutions.hands\n",
    "mp_drawing = mp.solutions.drawing_utils\n",
    "\n",
    "# Function to extract landmarks\n",
    "def get_landmarks(image):\n",
    "    landmark_list = []\n",
    "    image_rgb = cv2.cvtColor(image, cv2.COLOR_BGR2RGB)\n",
    "    results = hands.process(image_rgb)\n",
    "    \n",
    "    if results.multi_hand_landmarks:\n",
    "        for hand_landmarks in results.multi_hand_landmarks:\n",
    "            for landmark in hand_landmarks.landmark:\n",
    "                # Multiply x and y values by image width and height to get pixel values\n",
    "                x = int(landmark.x * image.shape[1])\n",
    "                y = int(landmark.y * image.shape[0])\n",
    "                landmark_list.append((x, y))\n",
    "    return landmark_list\n",
    "\n",
    "# Create a DataFrame to store hand landmarks\n",
    "# columns = [f'l{i}_x' for i in range(21)] + [f'l{i}_y' for i in range(21)] + [f'l{i}_z' for i in range(21)]\n",
    "columns=range(0,42)\n",
    "hand_landmarks_df = pd.DataFrame(columns=columns)\n",
    "\n",
    "# Initialize MediaPipe Hands\n",
    "with mp_hands.Hands(static_image_mode=False, max_num_hands=1, min_detection_confidence=0.5) as hands:\n",
    "    # Open the camera\n",
    "    cap = cv2.VideoCapture(0)\n",
    "\n",
    "    # Set the frame width and height\n",
    "#     cap.set(3, 640)\n",
    "#     cap.set(4, 480)\n",
    "\n",
    "    while cap.isOpened():\n",
    "        # Read a frame from the camera\n",
    "        ret, frame = cap.read()\n",
    "\n",
    "        # Convert the BGR image to RGB\n",
    "        rgb_frame = cv2.cvtColor(frame, cv2.COLOR_BGR2RGB)\n",
    "\n",
    "        # Process the frame to get hand landmarks\n",
    "        results = hands.process(rgb_frame)\n",
    "\n",
    "        # Check if hand landmarks are detected\n",
    "        if results.multi_hand_landmarks:\n",
    "            # Use the landmarks of the first detected hand (assuming one hand in the frame)\n",
    "            hand_landmarks = results.multi_hand_landmarks[0]\n",
    "            # Extract landmark positions\n",
    "            if get_landmarks(frame):\n",
    "                lst=[]\n",
    "                for i in get_landmarks(frame):\n",
    "                    for j in i:\n",
    "                        lst.append(j)\n",
    "                df=pd.DataFrame([lst])\n",
    "#                 print(df.head())\n",
    "                # Append landmark positions to the DataFrame\n",
    "                hand_landmarks_df = pd.concat([hand_landmarks_df, df ], ignore_index=True)\n",
    "\n",
    "                # Display the frame with hand landmarks (optional)\n",
    "                mp_drawing.draw_landmarks(frame, hand_landmarks, mp_hands.HAND_CONNECTIONS)\n",
    "\n",
    "                # Make predictions using the pretrained SVM model\n",
    "#                 X_frame = hand_landmarks_df.iloc[-1].values.reshape(1, -1)\n",
    "                X_frame = df\n",
    "#                 print(X_frame)\n",
    "\n",
    "#                 prediction_i = best_svm_model.predict(X_frame)\n",
    "#                 print(prediction_i)\n",
    "# #                 predictions = label_encoder.inverse_transform(np.reshape(np.argmax(prediction_i), (1,)))\n",
    "#                 predictions = labels[int(prediction_i[0])]\n",
    "#                 # Decode the predicted label\n",
    "#                 predicted_gesture = predictions\n",
    "#                 print(predictions)\n",
    "                \n",
    "                prediction_i = best_svm_model.predict(X_frame)\n",
    "#                 print(prediction_i)\n",
    "                predictions = label_encoder.inverse_transform(np.reshape(np.argmax(prediction_i), (1,)))\n",
    "#                 predicted_gesture = predictions\n",
    "                predicted_gesture = labels[int(predictions[0])]\n",
    "                print(predicted_gesture)\n",
    "                # Display the predicted gesture on the frame\n",
    "                cv2.putText(frame, f'Gesture: {predicted_gesture}', (10, 30), cv2.FONT_HERSHEY_SIMPLEX, 1, (0, 255, 0), 2, cv2.LINE_AA)\n",
    "\n",
    "        cv2.imshow('Hand Landmarks', frame)\n",
    "\n",
    "        # Break the loop if 'q' key is pressed\n",
    "        if cv2.waitKey(1) & 0xFF == ord('q'):\n",
    "            break\n",
    "\n",
    "    # Release the camera and close all windows\n",
    "    cap.release()\n",
    "    cv2.destroyAllWindows()\n"
   ]
  },
  {
   "cell_type": "code",
   "execution_count": 6,
   "id": "35cfe89c",
   "metadata": {},
   "outputs": [],
   "source": [
    "cap.release()\n",
    "cv2.destroyAllWindows()"
   ]
  },
  {
   "cell_type": "code",
   "execution_count": null,
   "id": "0685b633",
   "metadata": {},
   "outputs": [],
   "source": []
  }
 ],
 "metadata": {
  "kernelspec": {
   "display_name": "Python 3 (ipykernel)",
   "language": "python",
   "name": "python3"
  },
  "language_info": {
   "codemirror_mode": {
    "name": "ipython",
    "version": 3
   },
   "file_extension": ".py",
   "mimetype": "text/x-python",
   "name": "python",
   "nbconvert_exporter": "python",
   "pygments_lexer": "ipython3",
   "version": "3.11.5"
  }
 },
 "nbformat": 4,
 "nbformat_minor": 5
}
